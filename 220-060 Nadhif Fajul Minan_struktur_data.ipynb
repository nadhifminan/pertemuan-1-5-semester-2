{
 "cells": [
  {
   "cell_type": "markdown",
   "id": "9c48e69e",
   "metadata": {},
   "source": [
    "# Review algritma"
   ]
  },
  {
   "cell_type": "code",
   "execution_count": 7,
   "id": "d6716873",
   "metadata": {},
   "outputs": [
    {
     "name": "stdout",
     "output_type": "stream",
     "text": [
      "masukkan nilai n= 3\n"
     ]
    },
    {
     "data": {
      "text/plain": [
       "24"
      ]
     },
     "execution_count": 7,
     "metadata": {},
     "output_type": "execute_result"
    }
   ],
   "source": [
    "#buat fungsi menghitung persamaan sigma berikut:\n",
    "\n",
    "def sigma(n):\n",
    "    total=0\n",
    "    for i in range(1,n+1):\n",
    "        total+=(4*i)\n",
    "    return total\n",
    "n=int(input('masukkan nilai n= '))\n",
    "sigma(n)"
   ]
  },
  {
   "cell_type": "code",
   "execution_count": 11,
   "id": "ba21a086",
   "metadata": {},
   "outputs": [
    {
     "name": "stdout",
     "output_type": "stream",
     "text": [
      "31\n"
     ]
    }
   ],
   "source": [
    "#PR\n",
    "nx=[[4,7,9,2],[3,1,5,0]]\n",
    "def sigmaPR(nx):\n",
    "    t=0\n",
    "    for i in range(len(nx)):\n",
    "        for j in range(len(nx[0])):\n",
    "            t+=nx[i][j]\n",
    "    return t\n",
    "print(sigmaPR(nx))"
   ]
  },
  {
   "cell_type": "code",
   "execution_count": 21,
   "id": "7ed96e9f",
   "metadata": {},
   "outputs": [
    {
     "name": "stdout",
     "output_type": "stream",
     "text": [
      "masukkan nilai n= 5\n"
     ]
    },
    {
     "data": {
      "text/plain": [
       "220"
      ]
     },
     "execution_count": 21,
     "metadata": {},
     "output_type": "execute_result"
    }
   ],
   "source": [
    "def sigmax(n):\n",
    "    total=0\n",
    "    for i in range(1,n+1):\n",
    "        total+=(i**2)\n",
    "    return 4*total\n",
    "n=int(input('masukkan nilai n= '))\n",
    "sigmax(n)"
   ]
  },
  {
   "cell_type": "code",
   "execution_count": 20,
   "id": "e7420f9d",
   "metadata": {},
   "outputs": [
    {
     "name": "stdout",
     "output_type": "stream",
     "text": [
      "masukkan inputan= 2\n",
      "0.0\n"
     ]
    }
   ],
   "source": [
    "def shortSigma(n,x):\n",
    "    xi = [1 if i >= 10 else 0 for i in x]\n",
    "    wi = [xi[j]*x[j] for j in range(n)]\n",
    "    return sum(wi)/n\n",
    "inp=int(input('masukkan inputan= '))\n",
    "x=[2,3,4,5]\n",
    "print(shortSigma(inp,x))"
   ]
  },
  {
   "cell_type": "code",
   "execution_count": 22,
   "id": "4217c63b",
   "metadata": {},
   "outputs": [
    {
     "name": "stdout",
     "output_type": "stream",
     "text": [
      "masukkan nilai n :3\n",
      "14.0\n"
     ]
    }
   ],
   "source": [
    "inp=int(input('masukkan nilai n :'))\n",
    "x = [1,12,30,7,2,90,25]\n",
    "def sigma2(n,x):\n",
    "    xi = []\n",
    "    for i in x:\n",
    "        if i >= 10:\n",
    "            xi.append(1)\n",
    "        else:\n",
    "            xi.append(0)\n",
    "    hasil=0\n",
    "    for j in range(n):\n",
    "        hasil+=x[j]*xi[j]\n",
    "    return (1/n)*hasil\n",
    "print(sigma2(inp,x))\n",
    "#print(shortSigma(inp,x))sigma i=0 ,to n-1 sampai xi"
   ]
  },
  {
   "cell_type": "code",
   "execution_count": 24,
   "id": "ca51f642",
   "metadata": {},
   "outputs": [
    {
     "ename": "NameError",
     "evalue": "name 'i' is not defined",
     "output_type": "error",
     "traceback": [
      "\u001b[1;31m---------------------------------------------------------------------------\u001b[0m",
      "\u001b[1;31mNameError\u001b[0m                                 Traceback (most recent call last)",
      "Input \u001b[1;32mIn [24]\u001b[0m, in \u001b[0;36m<cell line: 11>\u001b[1;34m()\u001b[0m\n\u001b[0;32m      9\u001b[0m     b\u001b[38;5;241m+\u001b[39m\u001b[38;5;241m=\u001b[39mi\u001b[38;5;241m*\u001b[39mw\n\u001b[0;32m     10\u001b[0m     \u001b[38;5;28;01mreturn\u001b[39;00m \u001b[38;5;241m1\u001b[39m\u001b[38;5;241m/\u001b[39mn\u001b[38;5;241m*\u001b[39mb\n\u001b[1;32m---> 11\u001b[0m \u001b[43msigmaunik\u001b[49m\u001b[43m(\u001b[49m\u001b[38;5;241;43m34\u001b[39;49m\u001b[43m)\u001b[49m\n",
      "Input \u001b[1;32mIn [24]\u001b[0m, in \u001b[0;36msigmaunik\u001b[1;34m(a)\u001b[0m\n\u001b[0;32m      3\u001b[0m \u001b[38;5;28;01mdef\u001b[39;00m \u001b[38;5;21msigmaunik\u001b[39m(a):\n\u001b[0;32m      4\u001b[0m     b\u001b[38;5;241m=\u001b[39m\u001b[38;5;241m0\u001b[39m\n\u001b[1;32m----> 5\u001b[0m     \u001b[38;5;28;01mif\u001b[39;00m \u001b[43mi\u001b[49m\u001b[38;5;241m>\u001b[39m\u001b[38;5;241m=\u001b[39m\u001b[38;5;241m0\u001b[39m:\n\u001b[0;32m      6\u001b[0m         w\u001b[38;5;241m=\u001b[39m\u001b[38;5;241m1\u001b[39m\n\u001b[0;32m      7\u001b[0m     \u001b[38;5;28;01melse\u001b[39;00m:\n",
      "\u001b[1;31mNameError\u001b[0m: name 'i' is not defined"
     ]
    }
   ],
   "source": [
    "a=[4,6,2,7,9]\n",
    "b=0\n",
    "def sigmaunik(a):\n",
    "    b=0\n",
    "    if i>=0:\n",
    "        w=1\n",
    "    else:\n",
    "        w=0\n",
    "    b+=i*w\n",
    "    return 1/n*b\n",
    "sigmaunik(34)"
   ]
  },
  {
   "cell_type": "code",
   "execution_count": 25,
   "id": "df2de22a",
   "metadata": {},
   "outputs": [
    {
     "name": "stdout",
     "output_type": "stream",
     "text": [
      "1\n",
      "2\n",
      "3\n",
      "4\n",
      "10 4\n"
     ]
    }
   ],
   "source": [
    "a=[1,2,3,4]\n",
    "total=0\n",
    "for i in a:\n",
    "    print(i)\n",
    "    total+=i\n",
    "print(total,len(a))"
   ]
  },
  {
   "cell_type": "code",
   "execution_count": 26,
   "id": "32d8c3f7",
   "metadata": {},
   "outputs": [
    {
     "name": "stdout",
     "output_type": "stream",
     "text": [
      "masukkan nilai n : 4\n",
      "[0, 3, 4, 9]\n"
     ]
    }
   ],
   "source": [
    "a = int(input('masukkan nilai n : '))\n",
    "b = [x*2 if x%2 == 0 else x*3 for x in range(a)]\n",
    "print(b)"
   ]
  },
  {
   "cell_type": "code",
   "execution_count": 27,
   "id": "8dfef5c3",
   "metadata": {},
   "outputs": [
    {
     "data": {
      "text/plain": [
       "24"
      ]
     },
     "execution_count": 27,
     "metadata": {},
     "output_type": "execute_result"
    }
   ],
   "source": [
    "def sigmayaa(n):\n",
    "    total=0\n",
    "    for i in range(1,n+1):\n",
    "        total+=4*i\n",
    "    return total\n",
    "sigmayaa(3)"
   ]
  },
  {
   "cell_type": "code",
   "execution_count": 40,
   "id": "ea48b08c",
   "metadata": {},
   "outputs": [],
   "source": [
    "def stack():\n",
    "    s=[]\n",
    "    return (s)\n",
    "def push(s,data):\n",
    "    s.append(data)\n",
    "def pop(s):\n",
    "    data=s.pop()\n",
    "    return(data)\n",
    "def peek(s):\n",
    "    return(s[len(s)-1])\n",
    "def isEmpty(s):\n",
    "    return (s==[])\n",
    "def size(s):\n",
    "    return(len(s))"
   ]
  },
  {
   "cell_type": "code",
   "execution_count": 29,
   "id": "e1fe4fa4",
   "metadata": {},
   "outputs": [],
   "source": [
    "import stack as st"
   ]
  },
  {
   "cell_type": "code",
   "execution_count": 30,
   "id": "b54fb19e",
   "metadata": {},
   "outputs": [
    {
     "data": {
      "text/plain": [
       "True"
      ]
     },
     "execution_count": 30,
     "metadata": {},
     "output_type": "execute_result"
    }
   ],
   "source": [
    "data=st.stack()\n",
    "st.isEmpty(data)"
   ]
  },
  {
   "cell_type": "code",
   "execution_count": 31,
   "id": "8b5ae560",
   "metadata": {},
   "outputs": [
    {
     "name": "stdout",
     "output_type": "stream",
     "text": [
      "[100, 23]\n"
     ]
    }
   ],
   "source": [
    "st.push(data,100)\n",
    "st.push(data,23)\n",
    "st.push(data,34)\n",
    "st.pop(data)\n",
    "st.push(data,56)\n",
    "st.pop(data)\n",
    "print(data)"
   ]
  },
  {
   "cell_type": "code",
   "execution_count": 32,
   "id": "ef2285e5",
   "metadata": {},
   "outputs": [],
   "source": [
    "#menghapus data dari index ke 0\n",
    "def stack():\n",
    "    s=[]\n",
    "    return (s)\n",
    "def push(s,data):\n",
    "    s.insert(0,data)\n",
    "def pop(s):\n",
    "    s.remove(data[0])\n",
    "    return(data)\n",
    "def peek(s):\n",
    "    return(s[0])\n",
    "def isEmpty(s):\n",
    "    return (s==[])\n",
    "def size(s):\n",
    "    return(len(s))"
   ]
  },
  {
   "cell_type": "code",
   "execution_count": 33,
   "id": "8943db10",
   "metadata": {},
   "outputs": [
    {
     "name": "stdout",
     "output_type": "stream",
     "text": [
      "total baris ke- 0 = 7\n",
      "total baris ke- 1 = 19\n",
      "Total : 26\n",
      "----------------------------------------\n",
      "total baris ke- 0 = 9\n",
      "total baris ke- 1 = 9\n",
      "total baris ke- 2 = 8\n",
      "Total : 26\n"
     ]
    }
   ],
   "source": [
    "#menambahkan kolom\n",
    "x=[[2,7],[5,4],[0,8]]\n",
    "temp=0\n",
    "for i in range(len(x[0])):\n",
    "    tempBaris=0\n",
    "    for j in range(len(x)):\n",
    "        tempBaris+=x[j][i]\n",
    "    print('total baris ke-',i,'=',tempBaris)\n",
    "    temp+=tempBaris\n",
    "print('Total :',temp)\n",
    "\n",
    "\n",
    "print(40*'-')\n",
    "#menambahkan baris\n",
    "x=[[2,7],[5,4],[0,8]]\n",
    "temp=0\n",
    "for i in range(len(x)):\n",
    "    tempBaris=0\n",
    "    for j in range(len(x[0])):\n",
    "        tempBaris+=x[i][j]\n",
    "    print('total baris ke-',i,'=',tempBaris)\n",
    "    temp+=tempBaris\n",
    "print('Total :',temp)\n"
   ]
  },
  {
   "cell_type": "code",
   "execution_count": 34,
   "id": "1b13fc31",
   "metadata": {},
   "outputs": [
    {
     "name": "stdout",
     "output_type": "stream",
     "text": [
      "total baris ke- 0 = 9\n",
      "9\n",
      "total baris ke- 1 = 9\n",
      "18\n",
      "total baris ke- 2 = 8\n",
      "26\n",
      "26\n"
     ]
    }
   ],
   "source": [
    "x=[[2,7],[5,4],[0,8]]\n",
    "temp=0\n",
    "for i in range(len(x)):\n",
    "    tmp2=0\n",
    "    for j in range(len(x[0])):\n",
    "        tmp2+=x[i][j]\n",
    "    print('total baris ke-',i,'=',tmp2)\n",
    "    temp+=tmp2\n",
    "    print(temp)\n",
    "print(temp)"
   ]
  },
  {
   "cell_type": "code",
   "execution_count": 35,
   "id": "f4d03a65",
   "metadata": {},
   "outputs": [
    {
     "name": "stdout",
     "output_type": "stream",
     "text": [
      "total kolom ke- 0 = 7\n",
      "total kolom ke- 1 = 19\n",
      "hasil =26\n"
     ]
    }
   ],
   "source": [
    "x=[[2,7],[5,4],[0,8]]\n",
    "count=0\n",
    "for i in range(len(x[0])):\n",
    "    temp=0\n",
    "    for j in range(len(x)):\n",
    "        temp+=x[j][i]\n",
    "    print('total kolom ke-',i,'=',temp)\n",
    "    count+=temp\n",
    "print(f'hasil ={count}')"
   ]
  },
  {
   "cell_type": "code",
   "execution_count": 37,
   "id": "50f5f99c",
   "metadata": {},
   "outputs": [
    {
     "name": "stdout",
     "output_type": "stream",
     "text": [
      "('nadhif', 'dibalik menjadi', 'fihdan')\n"
     ]
    }
   ],
   "source": [
    "# membalik kata \n",
    "def reverse_Kalimat(word):\n",
    "    dataStack=st.stack()\n",
    "    for huruf in word:\n",
    "        st.push(dataStack,huruf)\n",
    "    hasil=''\n",
    "    while not(st.isEmpty(dataStack)):\n",
    "        hasil+=st.pop(dataStack)\n",
    "        #print(hasil)\n",
    "    return word,'dibalik menjadi',hasil\n",
    "print(reverse_Kalimat('nadhif'))"
   ]
  },
  {
   "cell_type": "code",
   "execution_count": 38,
   "id": "1b8c9bd0",
   "metadata": {},
   "outputs": [
    {
     "name": "stdout",
     "output_type": "stream",
     "text": [
      "True\n"
     ]
    }
   ],
   "source": [
    "def checkParentheses(strMat):\n",
    "    data=st.stack()\n",
    "    for ch in strMat:\n",
    "        if ch=='(':\n",
    "            st.push(data,ch)\n",
    "        elif ch==')':\n",
    "            if st.isEmpty(data):\n",
    "                return 'kelebihan kurung tutup'\n",
    "            else:\n",
    "                st.pop(data)\n",
    "    if st.isEmpty(data):\n",
    "        return True\n",
    "    else:\n",
    "        return 'Kelebihan kurung buka'\n",
    "print(checkParentheses('(5 x (4 + 5) / (3 + 2) x (10 - 8))'))"
   ]
  },
  {
   "cell_type": "code",
   "execution_count": 41,
   "id": "b6a49872",
   "metadata": {},
   "outputs": [
    {
     "name": "stdout",
     "output_type": "stream",
     "text": [
      "OK\n"
     ]
    }
   ],
   "source": [
    "def parenthesesCheck(strMath):\n",
    "    kurung={')':'(','}':'{',']':'['}\n",
    "    kurungBuka=kurung.values()\n",
    "    kurungTutup=kurung.keys()\n",
    "    temp=stack()\n",
    "    matched=True\n",
    "    for ch in strMath:\n",
    "        if ch in kurungBuka: # if ch in kurung.values()\n",
    "            push(temp,ch)\n",
    "        if ch in kurungTutup: #if ch in kurung.keys()\n",
    "            if isEmpty(temp):\n",
    "                return 'Kelebihan kurung Tutup'\n",
    "            else:\n",
    "                tempKurung=pop(temp)\n",
    "                if tempKurung==kurung[ch]:\n",
    "                    matched=matched and True\n",
    "                else:\n",
    "                    matched=matched and False\n",
    "    if not(isEmpty(temp)):\n",
    "        return 'Kelebihan Kurung Buka'\n",
    "    if matched==True:\n",
    "        return 'OK'\n",
    "    else:\n",
    "        return 'Tidak Cocok kurungnya'\n",
    "print(parenthesesCheck('(2+3)=8(())0'))"
   ]
  },
  {
   "cell_type": "code",
   "execution_count": 42,
   "id": "99803dc3",
   "metadata": {},
   "outputs": [
    {
     "name": "stdout",
     "output_type": "stream",
     "text": [
      "OK\n"
     ]
    }
   ],
   "source": [
    "def chekringkas(strMath):\n",
    "    kurung = {')': '(', '}': '{', ']': '['}\n",
    "    stack = []\n",
    "    for ch in strMath:\n",
    "        if ch in kurung.values():\n",
    "            stack.append(ch)\n",
    "        elif ch in kurung.keys():\n",
    "            if not stack or stack.pop() != kurung[ch]:\n",
    "                return 'Tidak Cocok kurungnya'\n",
    "    if stack:\n",
    "        return 'Kelebihan Kurung Buka'\n",
    "    return 'OK'\n",
    "print(chekringkas('(2+3)=8{()}0'))"
   ]
  },
  {
   "cell_type": "code",
   "execution_count": 43,
   "id": "503c9d5e",
   "metadata": {},
   "outputs": [
    {
     "name": "stdout",
     "output_type": "stream",
     "text": [
      "100\n"
     ]
    }
   ],
   "source": [
    "def convertBinary(num):\n",
    "    temp=stack()\n",
    "    divNum=num\n",
    "    while divNum>0:\n",
    "        push(temp,divNum%2)\n",
    "        divNum=divNum//2\n",
    "    tempStr=''\n",
    "    for i in range(size(temp)):\n",
    "        tempStr=tempStr+str(pop(temp))\n",
    "    return tempStr\n",
    "print(convertBinary(4))"
   ]
  },
  {
   "cell_type": "code",
   "execution_count": 44,
   "id": "c9782525",
   "metadata": {},
   "outputs": [],
   "source": [
    "def paranthesesCheck(strMath):\n",
    "    operandStack=stack()\n",
    "    lenMath=len(strMath)\n",
    "    openOperand='({['\n",
    "    closeOperand=')}]'\n",
    "    #print(lenMath)\n",
    "    i=0\n",
    "    Matched=True;\n",
    "    while i<(lenMath):\n",
    "        #print(i,'=',strMath[i])\n",
    "        if strMath[i] in openOperand:\n",
    "            push(operandStack,strMath[i])\n",
    "            #print(operandStack)\n",
    "        elif strMath[i] in closeOperand:\n",
    "            if not (isEmpty(operandStack)):\n",
    "                top=pop(operandStack)\n",
    "                #print(\"top=\",top)\n",
    "                #print (operandStack)\n",
    "                if openOperand.index(top)==closeOperand.index(strMath[i]):\n",
    "                    Matched=Matched and True\n",
    "                else:\n",
    "                    Matched=Matched and False\n",
    "                    print ('Kurung Buka dan Kurang Tutup tidak Cocok')\n",
    "            else:\n",
    "                Matched=Matched and False\n",
    "                print('Jumlah Kurung Tutup lebih banyak')\n",
    "        i=i+1\n",
    "        #print(Matched)\n",
    "    if not(isEmpty(operandStack)):\n",
    "        Matched=False\n",
    "        print('Jumlah Kurung Buka Lebih banyak')\n",
    "    return(Matched)"
   ]
  },
  {
   "cell_type": "code",
   "execution_count": 45,
   "id": "2dc32808",
   "metadata": {},
   "outputs": [],
   "source": [
    "a='5 x (4 + 5) / ((3 + 2) x (10 - 8)'"
   ]
  },
  {
   "cell_type": "code",
   "execution_count": 46,
   "id": "722cc879",
   "metadata": {},
   "outputs": [
    {
     "name": "stdout",
     "output_type": "stream",
     "text": [
      "Jumlah Kurung Buka Lebih banyak\n",
      "False\n"
     ]
    }
   ],
   "source": [
    "isMatched=paranthesesCheck(a)\n",
    "print(isMatched)"
   ]
  },
  {
   "cell_type": "code",
   "execution_count": 47,
   "id": "8991f6ef",
   "metadata": {},
   "outputs": [
    {
     "data": {
      "text/plain": [
       "True"
      ]
     },
     "execution_count": 47,
     "metadata": {},
     "output_type": "execute_result"
    }
   ],
   "source": [
    "paranthesesCheck('5 x (4 + 5) / ((3 + 2) x (10 - 8))')"
   ]
  },
  {
   "cell_type": "code",
   "execution_count": 48,
   "id": "dd3e6eec",
   "metadata": {},
   "outputs": [
    {
     "name": "stdout",
     "output_type": "stream",
     "text": [
      "Kurung Buka dan Kurang Tutup tidak Cocok\n"
     ]
    },
    {
     "data": {
      "text/plain": [
       "False"
      ]
     },
     "execution_count": 48,
     "metadata": {},
     "output_type": "execute_result"
    }
   ],
   "source": [
    "paranthesesCheck('5 x (4 + 5} / ((3 + 2) x (10 - 8))')"
   ]
  },
  {
   "cell_type": "code",
   "execution_count": 49,
   "id": "0d3dc74e",
   "metadata": {},
   "outputs": [
    {
     "name": "stdout",
     "output_type": "stream",
     "text": [
      "0 : (\n",
      "0 ['('] False\n",
      "1 : (\n",
      "1 ['(', '('] False\n",
      "2 : (\n",
      "2 ['(', '(', '('] False\n",
      "3 : (\n",
      "3 ['(', '(', '(', '('] False\n",
      "4 : 3\n",
      "4 ['(', '(', '(', '('] False\n",
      "5 : +\n",
      "5 ['(', '(', '(', '('] False\n",
      "6 : 3\n",
      "6 ['(', '(', '(', '('] False\n",
      "7 : )\n",
      "pop\n",
      "7 ['(', '(', '('] False\n",
      "8 : )\n",
      "pop\n",
      "8 ['(', '('] False\n",
      "9 : )\n",
      "pop\n",
      "9 ['('] True\n",
      "kelebihan Kurung Buka\n"
     ]
    }
   ],
   "source": [
    "#pertemuan senin 27 februari\n",
    "ekspressiMatematika='((((3+3)))'\n",
    "kurungBuka=\"(\"\n",
    "kurungTutup=\")\"\n",
    "mathStack=stack()\n",
    "stop=False\n",
    "i=0\n",
    "while not(stop):\n",
    "    print(i,\":\",ekspressiMatematika[i])\n",
    "    if ekspressiMatematika[i]==kurungBuka:\n",
    "        push(mathStack,ekspressiMatematika[i])\n",
    "    elif (ekspressiMatematika[i]==kurungTutup)and not(isEmpty(mathStack)):\n",
    "        print('pop')\n",
    "        pop(mathStack)\n",
    "    elif (ekspressiMatematika[i]==kurungTutup) and isEmpty(mathStack):\n",
    "        print('kelebihan kurung tutup')\n",
    "        stop=True\n",
    "    if i==len(ekspressiMatematika)-1:\n",
    "        stop=True\n",
    "    print(i,mathStack,stop)\n",
    "    i+=1\n",
    "if isEmpty(mathStack)and i==len(ekspressiMatematika)-1:\n",
    "    print('Ekspressi Benar')\n",
    "elif not(isEmpty(mathStack)):\n",
    "    print('kelebihan Kurung Buka')"
   ]
  },
  {
   "cell_type": "code",
   "execution_count": 50,
   "id": "a20b2e0a",
   "metadata": {},
   "outputs": [
    {
     "name": "stdout",
     "output_type": "stream",
     "text": [
      "( --> []\n",
      "2 --> []\n",
      "+ --> []\n",
      "4 --> []\n",
      "kelebihan kurung tutup\n",
      ") --> []\n",
      "kelebihan kurung tutup\n",
      ") --> []\n",
      "* --> []\n",
      "6 --> []\n",
      "stack terakhir =  []\n",
      "True\n"
     ]
    }
   ],
   "source": [
    "ekspr='(2+4))*6'\n",
    "kurungStack=stack()\n",
    "for i in range(len(ekspr)):\n",
    "    if ekspr=='(':\n",
    "        push(kurungStack,ekspr[i])\n",
    "    elif ekspr[i]==')':\n",
    "        if isEmpty(kurungStack):\n",
    "            print('kelebihan kurung tutup')\n",
    "        else:\n",
    "            pop(kurungStack)\n",
    "    print(ekspr[i],'-->',kurungStack)\n",
    "print('stack terakhir = ',kurungStack)\n",
    "if not(isEmpty(kurungStack)):\n",
    "    print('kelebian kurung buka')\n",
    "else:\n",
    "    print('True')"
   ]
  },
  {
   "cell_type": "code",
   "execution_count": 51,
   "id": "12690175",
   "metadata": {},
   "outputs": [
    {
     "name": "stdout",
     "output_type": "stream",
     "text": [
      "( --> ['(']\n",
      "( --> ['(', '(']\n",
      "2 --> ['(', '(']\n",
      "+ --> ['(', '(']\n",
      "4 --> ['(', '(']\n",
      ") --> ['(']\n",
      "* --> ['(']\n",
      "6 --> ['(']\n",
      "stack terakhir =  ['(']\n",
      "kelebian kurung buka\n"
     ]
    }
   ],
   "source": [
    "#pertemuan 3 februari\n",
    "ekspr='((2+4)*6'\n",
    "kurungStack=stack()\n",
    "errMsg=\"\"\n",
    "flag=True\n",
    "for i in range(len(ekspr)):\n",
    "    if ekspr[i]=='(':\n",
    "        push(kurungStack,ekspr[i])\n",
    "    elif ekspr[i]==')':\n",
    "        if isEmpty(kurungStack):\n",
    "             flag=False\n",
    "             errMsg='kelebihan kurung tutup'\n",
    "        else:\n",
    "            pop(kurungStack)\n",
    "    print(ekspr[i],'-->',kurungStack)\n",
    "             \n",
    "print('stack terakhir = ',kurungStack)\n",
    "             \n",
    "if not(isEmpty(kurungStack)):\n",
    "    errMsg='kelebian kurung buka'\n",
    "elif isEmpty(kurungStack)and flag:\n",
    "    errMsg='True' \n",
    "\n",
    "print(errMsg)"
   ]
  },
  {
   "cell_type": "code",
   "execution_count": 53,
   "id": "4cd0b57c",
   "metadata": {},
   "outputs": [
    {
     "name": "stdout",
     "output_type": "stream",
     "text": [
      "21\n"
     ]
    }
   ],
   "source": [
    "# ekspressi matematika INFIX,POSTFIX,PREFIX\n",
    "# infix:operand,operator,operand -->A+B+C\n",
    "# postfix=operand,operand,opertaor -->AB+C-\n",
    "# prefix=operator,operand,operand -->-+ABC\n",
    "\n",
    "# contoh lain:\n",
    "# (A+B)*(C-D)\n",
    "\n",
    "# POSTFIX=\n",
    "def operasiPost(str):\n",
    "    operand_Stack=stack()\n",
    "    operator='+-/*'\n",
    "    for i in str:\n",
    "        if i not in operator:\n",
    "            push(operand_Stack,i)\n",
    "        else:\n",
    "            oprnd2=pop(operand_Stack)\n",
    "            oprnd1=pop(operand_Stack)\n",
    "            if i=='+':\n",
    "                hasil=int(oprnd1)+int(oprnd2)\n",
    "            elif i=='-':\n",
    "                hasil=int(oprnd1)-int(oprnd2)\n",
    "            elif i=='*':\n",
    "                hasil=int(oprnd1)*int(oprnd2)\n",
    "            else:\n",
    "                hasil=int(oprnd1)/int(oprnd2)\n",
    "            push(operand_Stack,hasil)\n",
    "    return(pop(operand_Stack))\n",
    "print(operasiPost('43+52-*'))\n",
    "# PREFIX=*+AB-CD\n",
    "\n"
   ]
  },
  {
   "cell_type": "code",
   "execution_count": 54,
   "id": "64cc9b1d",
   "metadata": {},
   "outputs": [
    {
     "name": "stdout",
     "output_type": "stream",
     "text": [
      "21\n"
     ]
    }
   ],
   "source": [
    "def operasiPost(str):\n",
    "    operand_Stack=stack()\n",
    "    operator='+-/*'\n",
    "    for i in str:\n",
    "        if i not in operator:\n",
    "            push(operand_Stack,i)\n",
    "        else:\n",
    "            oprnd2=pop(operand_Stack)\n",
    "            oprnd1=pop(operand_Stack)\n",
    "            if i=='+':\n",
    "                hasil=int(oprnd1)+int(oprnd2)\n",
    "            elif i=='-':\n",
    "                hasil=int(oprnd1)-int(oprnd2)\n",
    "            elif i=='*':\n",
    "                hasil=int(oprnd1)*int(oprnd2)\n",
    "            else:\n",
    "                hasil=int(oprnd1)/int(oprnd2)\n",
    "            push(operand_Stack,hasil)\n",
    "    return(pop(operand_Stack))\n",
    "print(operasiPost('43+52-*'))"
   ]
  },
  {
   "cell_type": "code",
   "execution_count": 55,
   "id": "09d351ef",
   "metadata": {},
   "outputs": [],
   "source": [
    "def stack():\n",
    "    s=[]\n",
    "    return (s)\n",
    "def push(s,data):\n",
    "    s.append(data)\n",
    "def pop(s):\n",
    "    data=s.pop()\n",
    "    return(data)\n",
    "def peek(s):\n",
    "    return(s[len(s)-1])\n",
    "def isEmpty(s):\n",
    "    return (s==[])\n",
    "def size(s):\n",
    "    return(len(s))"
   ]
  },
  {
   "cell_type": "code",
   "execution_count": 56,
   "id": "633c9bce",
   "metadata": {},
   "outputs": [
    {
     "name": "stdout",
     "output_type": "stream",
     "text": [
      "-884.0\n"
     ]
    }
   ],
   "source": [
    "#menambahkan 2 angka sekaligus\n",
    "def evaluatePost(postStr):\n",
    "    operandStack=stack()\n",
    "    operator='+-/*'\n",
    "    postStr=postStr.split()\n",
    "    for i in postStr:\n",
    "        if i not in operator:\n",
    "            push(operandStack,i)\n",
    "        else:\n",
    "            oprnd2=pop(operandStack)\n",
    "            oprnd1=pop(operandStack)\n",
    "            if i=='+':\n",
    "                result=float(oprnd1)+float(oprnd2)\n",
    "            elif i=='-':\n",
    "                result=float(oprnd1)-float(oprnd2)\n",
    "            elif i=='*':\n",
    "                result=float(oprnd1)*float(oprnd2)\n",
    "            elif i == \"/\":\n",
    "                result=float(oprnd1)/float(oprnd2)\n",
    "            push(operandStack,result)\n",
    "    return(pop(operandStack))\n",
    "\n",
    "\n",
    "print(evaluatePost('41 54 - 68 *'))"
   ]
  },
  {
   "cell_type": "code",
   "execution_count": 57,
   "id": "8bd1455e",
   "metadata": {},
   "outputs": [
    {
     "name": "stdout",
     "output_type": "stream",
     "text": [
      "AB+C*D-\n"
     ]
    }
   ],
   "source": [
    "def infixToPostfix(strMath):\n",
    "    hasil=\"\"\n",
    "    oprStc = stack()\n",
    "    operator = {\"^\":2,\"*\":1,\"/\":1,\"+\":0,\"-\":0}\n",
    "    \n",
    "    for i in strMath :\n",
    "        \n",
    "        if i not in operator.keys() and i not in [\"(\",\")\"]:\n",
    "            hasil+=i\n",
    "            \n",
    "        elif i == \"(\":\n",
    "            push(oprStc,i)\n",
    "            \n",
    "        elif i == \")\":\n",
    "            while peek(oprStc) != \"(\":\n",
    "                hasil+=pop(oprStc)\n",
    "            pop(oprStc)\n",
    "            \n",
    "        elif i in operator.keys():\n",
    "            while not(isEmpty(oprStc)) and peek(oprStc) != \"(\" and operator[peek(oprStc)] >= operator[i]:\n",
    "                hasil+=pop(oprStc)\n",
    "            push(oprStc,i)\n",
    "    \n",
    "    while not(isEmpty(oprStc)):\n",
    "        hasil+=pop(oprStc)\n",
    "        \n",
    "    return hasil\n",
    "            \n",
    "print(infixToPostfix(\"(A+B)*C-D\"))"
   ]
  },
  {
   "cell_type": "code",
   "execution_count": 58,
   "id": "59090bb0",
   "metadata": {},
   "outputs": [
    {
     "name": "stdout",
     "output_type": "stream",
     "text": [
      "True\n"
     ]
    }
   ],
   "source": [
    "lvlOperator={'+':1,'-':1,'*':2,'/':2}\n",
    "def uji(operator1,operator2):\n",
    "    lvlOperator={'+':1,'-':1,'*':2,'/':2}\n",
    "    if lvlOperator[operator1]>=lvlOperator[operator2]:\n",
    "        return True\n",
    "    else:\n",
    "        return False\n",
    "print(uji('*','-'))\n",
    "# print(lvlOperator['*'])"
   ]
  },
  {
   "cell_type": "code",
   "execution_count": 59,
   "id": "5259f701",
   "metadata": {},
   "outputs": [
    {
     "name": "stdout",
     "output_type": "stream",
     "text": [
      "A ---> operand\n",
      "stack []\n",
      "strOutput = A\n",
      "\n",
      "+ ---> operator\n",
      "stack ['+']\n",
      "strOutput = A\n",
      "\n",
      "B ---> operand\n",
      "stack ['+']\n",
      "strOutput = AB\n",
      "\n",
      "* ---> operator\n",
      "run=  False\n",
      "stack ['+', '*']\n",
      "strOutput = AB\n",
      "\n",
      "C ---> operand\n",
      "stack ['+', '*']\n",
      "strOutput = ABC\n",
      "\n",
      "- ---> operator\n",
      "run=  True\n",
      "run= True\n",
      "stack= ['+']\n",
      "run= True\n",
      "stack= []\n",
      "stack ['-']\n",
      "strOutput = ABC*+\n",
      "\n",
      "D ---> operand\n",
      "stack ['-']\n",
      "strOutput = ABC*+D\n",
      "\n",
      "A+B*C-D\n",
      "strOutput = ABC*+D-\n"
     ]
    }
   ],
   "source": [
    "problem=\"A+B*C-D\"\n",
    "operator='-+*/'\n",
    "strOutput=''\n",
    "stackPostfix=stack()\n",
    "for i in range(len(problem)):\n",
    "    if problem[i]in operator:\n",
    "        print(problem[i],'---> operator')\n",
    "        if isEmpty(stackPostfix):\n",
    "            push(stackPostfix,problem[i])\n",
    "        else:\n",
    "            run=uji(peek(stackPostfix),problem[i])\n",
    "            print('run= ',run)\n",
    "            while run and not(isEmpty(stackPostfix)):\n",
    "                strOutput+=pop(stackPostfix)\n",
    "                print('run=',run)\n",
    "                print('stack=',stackPostfix)\n",
    "            push(stackPostfix,problem[i])\n",
    "    else:\n",
    "        print(problem[i],'---> operand')\n",
    "        strOutput+=problem[i]\n",
    "    print('stack',stackPostfix)\n",
    "    print('strOutput =',strOutput)\n",
    "    print()\n",
    "while not (isEmpty(stackPostfix)):\n",
    "    strOutput+=pop(stackPostfix)\n",
    "print(problem)\n",
    "print('strOutput =',strOutput)"
   ]
  },
  {
   "cell_type": "code",
   "execution_count": 60,
   "id": "99bce96d",
   "metadata": {},
   "outputs": [
    {
     "name": "stdout",
     "output_type": "stream",
     "text": [
      "A ---> operand\n",
      "stack []\n",
      "strOutput = A\n",
      "\n",
      "+ ---> operator\n",
      "stack ['+']\n",
      "strOutput = A\n",
      "\n",
      "B ---> operand\n",
      "stack ['+']\n",
      "strOutput = AB\n",
      "\n",
      "* ---> operator\n",
      "run=  False\n",
      "stack ['+', '*']\n",
      "strOutput = AB\n",
      "\n",
      "C ---> operand\n",
      "stack ['+', '*']\n",
      "strOutput = ABC\n",
      "\n",
      "- ---> operator\n",
      "run=  True\n",
      "run= True\n",
      "stack= ['+']\n",
      "run= True\n",
      "stack= []\n",
      "stack ['-']\n",
      "strOutput = ABC*+\n",
      "\n",
      "D ---> operand\n",
      "stack ['-']\n",
      "strOutput = ABC*+D\n",
      "\n",
      "A+B*C-D\n",
      "strOutput = ABC*+D-\n"
     ]
    }
   ],
   "source": [
    "problem=\"A+B*C-D\"\n",
    "operator='-+*/'\n",
    "strOutput=''\n",
    "stackPostfix=stack()\n",
    "for i in range(len(problem)):\n",
    "    if problem[i]in operator:\n",
    "        print(problem[i],'---> operator')\n",
    "        if isEmpty(stackPostfix):\n",
    "            push(stackPostfix,problem[i])\n",
    "        else:\n",
    "            run=uji(peek(stackPostfix),problem[i])\n",
    "            print('run= ',run)\n",
    "            while run and not(isEmpty(stackPostfix)):\n",
    "                strOutput+=pop(stackPostfix)\n",
    "                print('run=',run)\n",
    "                print('stack=',stackPostfix)\n",
    "            push(stackPostfix,problem[i])\n",
    "    else:\n",
    "        print(problem[i],'---> operand')\n",
    "        strOutput+=problem[i]\n",
    "    print('stack',stackPostfix)\n",
    "    print('strOutput =',strOutput)\n",
    "    print()\n",
    "while not (isEmpty(stackPostfix)):\n",
    "    strOutput+=pop(stackPostfix)\n",
    "print(problem)\n",
    "print('strOutput =',strOutput)"
   ]
  },
  {
   "cell_type": "code",
   "execution_count": 61,
   "id": "1cda3ec8",
   "metadata": {},
   "outputs": [
    {
     "name": "stdout",
     "output_type": "stream",
     "text": [
      "['+']\n"
     ]
    },
    {
     "ename": "NameError",
     "evalue": "name 'banding' is not defined",
     "output_type": "error",
     "traceback": [
      "\u001b[1;31m---------------------------------------------------------------------------\u001b[0m",
      "\u001b[1;31mNameError\u001b[0m                                 Traceback (most recent call last)",
      "Input \u001b[1;32mIn [61]\u001b[0m, in \u001b[0;36m<cell line: 5>\u001b[1;34m()\u001b[0m\n\u001b[0;32m      9\u001b[0m     \u001b[38;5;28mprint\u001b[39m(tempStack)\n\u001b[0;32m     10\u001b[0m \u001b[38;5;28;01melse\u001b[39;00m:\n\u001b[1;32m---> 11\u001b[0m     run\u001b[38;5;241m=\u001b[39m\u001b[43mbanding\u001b[49m(peek(tempStack),i)\n\u001b[0;32m     12\u001b[0m     \u001b[38;5;28;01mwhile\u001b[39;00m run \u001b[38;5;129;01mand\u001b[39;00m \u001b[38;5;129;01mnot\u001b[39;00m(isEmpty(tempStack)):\n\u001b[0;32m     13\u001b[0m         tampung\u001b[38;5;241m+\u001b[39m\u001b[38;5;241m=\u001b[39mpop(tempStack)\n",
      "\u001b[1;31mNameError\u001b[0m: name 'banding' is not defined"
     ]
    }
   ],
   "source": [
    "problem=\"A+B*C-D\"\n",
    "operator=\"+-/*\"\n",
    "tampung=''\n",
    "tempStack=stack()\n",
    "for i in problem:\n",
    "    if i in operator:\n",
    "        if isEmpty(tempStack):\n",
    "            push(tempStack,i)\n",
    "            print(tempStack)\n",
    "        else:\n",
    "            run=banding(peek(tempStack),i)\n",
    "            while run and not(isEmpty(tempStack)):\n",
    "                tampung+=pop(tempStack)\n",
    "            push(tempStack,i)\n",
    "    else:\n",
    "        tampung+=i\n",
    "while not(isEmpty(tempStack)):\n",
    "    tampung+=pop(tempStack)\n",
    "print(tampung)"
   ]
  },
  {
   "cell_type": "code",
   "execution_count": 62,
   "id": "8ec05b2d",
   "metadata": {},
   "outputs": [
    {
     "name": "stdout",
     "output_type": "stream",
     "text": [
      "AB+C*D-\n"
     ]
    }
   ],
   "source": [
    "#PR menambahkan kurung tutup\n",
    "def infixToPostfix(strMath):\n",
    "    hasil=\"\"\n",
    "    oprStc = stack()\n",
    "    operator = {\"^\":2,\"*\":1,\"/\":1,\"+\":0,\"-\":0}\n",
    "    \n",
    "    for i in strMath :\n",
    "        \n",
    "        if i not in operator.keys() and i not in [\"(\",\")\"]:\n",
    "            hasil+=i\n",
    "            \n",
    "        elif i == \"(\":\n",
    "            push(oprStc,i)\n",
    "            \n",
    "        elif i == \")\":\n",
    "            while peek(oprStc) != \"(\":\n",
    "                hasil+=pop(oprStc)\n",
    "            pop(oprStc)\n",
    "            \n",
    "        elif i in operator.keys():\n",
    "            while not(isEmpty(oprStc)) and peek(oprStc) != \"(\" and operator[peek(oprStc)] >= operator[i]:\n",
    "                hasil+=pop(oprStc)\n",
    "            push(oprStc,i)\n",
    "    \n",
    "    while not(isEmpty(oprStc)):\n",
    "        hasil+=pop(oprStc)\n",
    "        \n",
    "    return hasil\n",
    "            \n",
    "print(infixToPostfix(\"(A+B)*C-D\"))"
   ]
  },
  {
   "cell_type": "code",
   "execution_count": 63,
   "id": "ba51b428",
   "metadata": {},
   "outputs": [
    {
     "name": "stdout",
     "output_type": "stream",
     "text": [
      "masukkan angka=4\n",
      "masukkan angka=5\n",
      "masukkan angka=3\n",
      "masukkan angka=4\n",
      "masukkan angka=5\n",
      "masukkan angka=3\n"
     ]
    }
   ],
   "source": [
    "def createListX(ukuran):\n",
    "    x=[]\n",
    "    for i in range(ukuran):\n",
    "        inp=int(input('masukkan angka='))\n",
    "        x.append(inp)\n",
    "    return x\n",
    "x=(createListX(6))"
   ]
  },
  {
   "cell_type": "code",
   "execution_count": 64,
   "id": "55dd465d",
   "metadata": {},
   "outputs": [],
   "source": [
    "def addMatrix(s):\n",
    "    if len (s)==len(s) and len(mat1[0])==len(mat2[0]):\n",
    "        baris=[]\n",
    "        for i in range(len(mat1)):\n",
    "            kolom=[]\n",
    "            for j in range (len((mat1[0]))):\n",
    "                kolom.append(mat1[i][j]+mat2[i][j])\n",
    "            baris.append(kolom)\n",
    "        return baris\n",
    "    else:\n",
    "        return \"ukuran tidak sama\""
   ]
  },
  {
   "cell_type": "markdown",
   "id": "b6691a94",
   "metadata": {},
   "source": [
    "# Queue"
   ]
  },
  {
   "cell_type": "code",
   "execution_count": 65,
   "id": "5fa2bddf",
   "metadata": {},
   "outputs": [],
   "source": [
    "def createQueue():\n",
    "    q=[]\n",
    "    return (q)\n",
    "def enqueue(q,data):\n",
    "    q.insert(0,data)\n",
    "    return(q)\n",
    "def dequeue(q):\n",
    "    data=q.pop()\n",
    "    return(data)\n",
    "def isEmpty(q):\n",
    "    return (q==[])\n",
    "def size(q):\n",
    "    return (len(q))"
   ]
  },
  {
   "cell_type": "code",
   "execution_count": 66,
   "id": "93126a8c",
   "metadata": {},
   "outputs": [],
   "source": [
    "q=createQueue()"
   ]
  },
  {
   "cell_type": "code",
   "execution_count": 67,
   "id": "6f6bf925",
   "metadata": {},
   "outputs": [
    {
     "name": "stdout",
     "output_type": "stream",
     "text": [
      "['pemrograman web', 'bahasa inggris', 'struktur data', 'matematika']\n"
     ]
    }
   ],
   "source": [
    "enqueue(q,'matematika')\n",
    "enqueue(q,'struktur data')\n",
    "enqueue(q,'bahasa inggris')\n",
    "enqueue(q,'pemrograman web')\n",
    "print(q)"
   ]
  },
  {
   "cell_type": "code",
   "execution_count": 68,
   "id": "eb418d7b",
   "metadata": {},
   "outputs": [
    {
     "name": "stdout",
     "output_type": "stream",
     "text": [
      "['pemrograman web', 'bahasa inggris', 'struktur data']\n",
      "matematika\n"
     ]
    }
   ],
   "source": [
    "temp=dequeue(q)\n",
    "print(q)\n",
    "print(temp)"
   ]
  },
  {
   "cell_type": "code",
   "execution_count": 69,
   "id": "22011b4e",
   "metadata": {},
   "outputs": [
    {
     "name": "stdout",
     "output_type": "stream",
     "text": [
      "['struktur data', 'pemrograman web', 'bahasa inggris']\n"
     ]
    }
   ],
   "source": [
    "enqueue(q,dequeue(q))\n",
    "print(q)"
   ]
  },
  {
   "cell_type": "code",
   "execution_count": 70,
   "id": "48a4b47b",
   "metadata": {},
   "outputs": [
    {
     "name": "stdout",
     "output_type": "stream",
     "text": [
      "bahasa inggris ['struktur data', 'pemrograman web']\n"
     ]
    }
   ],
   "source": [
    "a=dequeue(q)\n",
    "print(a,q)"
   ]
  },
  {
   "cell_type": "code",
   "execution_count": 71,
   "id": "b500ee00",
   "metadata": {},
   "outputs": [
    {
     "data": {
      "text/plain": [
       "['new', 'struktur data', 'pemrograman web']"
      ]
     },
     "execution_count": 71,
     "metadata": {},
     "output_type": "execute_result"
    }
   ],
   "source": [
    "enqueue(q,'new')"
   ]
  },
  {
   "cell_type": "code",
   "execution_count": 72,
   "id": "57665a7c",
   "metadata": {},
   "outputs": [
    {
     "data": {
      "text/plain": [
       "False"
      ]
     },
     "execution_count": 72,
     "metadata": {},
     "output_type": "execute_result"
    }
   ],
   "source": [
    "isEmpty(q)"
   ]
  },
  {
   "cell_type": "code",
   "execution_count": 73,
   "id": "2089732c",
   "metadata": {},
   "outputs": [
    {
     "data": {
      "text/plain": [
       "3"
      ]
     },
     "execution_count": 73,
     "metadata": {},
     "output_type": "execute_result"
    }
   ],
   "source": [
    "size(q)"
   ]
  },
  {
   "cell_type": "code",
   "execution_count": 74,
   "id": "6df48e82",
   "metadata": {},
   "outputs": [],
   "source": [
    "def ularNaga(nama, hitungan):\n",
    "    gameQueue = createQueue()\n",
    "    for namaAnak in nama:\n",
    "        enqueue(gameQueue,namaAnak)\n",
    "    print('Peserta Permainan=',gameQueue)\n",
    "    while size(gameQueue) > 1:\n",
    "        for i in range(hitungan):\n",
    "            enqueue(gameQueue,dequeue(gameQueue))\n",
    "            print('hitungan ke-',i,'=',gameQueue)\n",
    "        dequeue(gameQueue)\n",
    "        print('Peserta Permainan=',gameQueue)\n",
    "    return dequeue(gameQueue)"
   ]
  },
  {
   "cell_type": "code",
   "execution_count": 75,
   "id": "0b0cd76f",
   "metadata": {},
   "outputs": [
    {
     "name": "stdout",
     "output_type": "stream",
     "text": [
      "Peserta Permainan= ['zaki', 'diana', 'rafa', 'anton', 'sari', 'rita', 'andi']\n",
      "hitungan ke- 0 = ['andi', 'zaki', 'diana', 'rafa', 'anton', 'sari', 'rita']\n",
      "hitungan ke- 1 = ['rita', 'andi', 'zaki', 'diana', 'rafa', 'anton', 'sari']\n",
      "Peserta Permainan= ['rita', 'andi', 'zaki', 'diana', 'rafa', 'anton']\n",
      "hitungan ke- 0 = ['anton', 'rita', 'andi', 'zaki', 'diana', 'rafa']\n",
      "hitungan ke- 1 = ['rafa', 'anton', 'rita', 'andi', 'zaki', 'diana']\n",
      "Peserta Permainan= ['rafa', 'anton', 'rita', 'andi', 'zaki']\n",
      "hitungan ke- 0 = ['zaki', 'rafa', 'anton', 'rita', 'andi']\n",
      "hitungan ke- 1 = ['andi', 'zaki', 'rafa', 'anton', 'rita']\n",
      "Peserta Permainan= ['andi', 'zaki', 'rafa', 'anton']\n",
      "hitungan ke- 0 = ['anton', 'andi', 'zaki', 'rafa']\n",
      "hitungan ke- 1 = ['rafa', 'anton', 'andi', 'zaki']\n",
      "Peserta Permainan= ['rafa', 'anton', 'andi']\n",
      "hitungan ke- 0 = ['andi', 'rafa', 'anton']\n",
      "hitungan ke- 1 = ['anton', 'andi', 'rafa']\n",
      "Peserta Permainan= ['anton', 'andi']\n",
      "hitungan ke- 0 = ['andi', 'anton']\n",
      "hitungan ke- 1 = ['anton', 'andi']\n",
      "Peserta Permainan= ['anton']\n"
     ]
    },
    {
     "data": {
      "text/plain": [
       "'anton'"
      ]
     },
     "execution_count": 75,
     "metadata": {},
     "output_type": "execute_result"
    }
   ],
   "source": [
    "ularNaga(['andi','rita','sari','anton','rafa','diana','zaki'],2)"
   ]
  },
  {
   "cell_type": "markdown",
   "id": "5be180b4",
   "metadata": {},
   "source": [
    "# deques"
   ]
  },
  {
   "cell_type": "code",
   "execution_count": 76,
   "id": "3f3bca18",
   "metadata": {},
   "outputs": [],
   "source": [
    "def createDeque():\n",
    "    d=[]\n",
    "    return (d)\n",
    "def addFront(d,data):\n",
    "    d.insert(0,data)\n",
    "    return(d)\n",
    "def addRear(d,data):\n",
    "    d.append(data)\n",
    "    return(d)\n",
    "def removeRear(d):\n",
    "    data=d.pop()\n",
    "    return(data)\n",
    "def removeFront(d):\n",
    "    data=d.pop(0)\n",
    "    return(data)\n",
    "def isEmpty(d):\n",
    "    return (d==[])\n",
    "def size(d):\n",
    "    return (len(d))"
   ]
  },
  {
   "cell_type": "code",
   "execution_count": 77,
   "id": "1e2bcf69",
   "metadata": {},
   "outputs": [],
   "source": [
    "deq=createDeque()"
   ]
  },
  {
   "cell_type": "code",
   "execution_count": 78,
   "id": "d78209a5",
   "metadata": {},
   "outputs": [
    {
     "data": {
      "text/plain": [
       "['data', 'struktur']"
      ]
     },
     "execution_count": 78,
     "metadata": {},
     "output_type": "execute_result"
    }
   ],
   "source": [
    "addFront(deq,'struktur')\n",
    "addFront(deq,'data')"
   ]
  },
  {
   "cell_type": "code",
   "execution_count": 79,
   "id": "4c792815",
   "metadata": {},
   "outputs": [
    {
     "data": {
      "text/plain": [
       "['data', 'struktur', '2018', '2019']"
      ]
     },
     "execution_count": 79,
     "metadata": {},
     "output_type": "execute_result"
    }
   ],
   "source": [
    "addRear(deq,'2018')\n",
    "addRear(deq,'2019')"
   ]
  },
  {
   "cell_type": "code",
   "execution_count": 80,
   "id": "0c017b15",
   "metadata": {},
   "outputs": [
    {
     "data": {
      "text/plain": [
       "['data', 'struktur', '2018', '2019', '100']"
      ]
     },
     "execution_count": 80,
     "metadata": {},
     "output_type": "execute_result"
    }
   ],
   "source": [
    "addRear(deq,'100')"
   ]
  },
  {
   "cell_type": "code",
   "execution_count": 81,
   "id": "b838f8eb",
   "metadata": {},
   "outputs": [
    {
     "name": "stdout",
     "output_type": "stream",
     "text": [
      "data\n",
      "['struktur', '2018', '2019', '100']\n"
     ]
    }
   ],
   "source": [
    "data=removeFront(deq)\n",
    "print(data)\n",
    "print(deq)"
   ]
  },
  {
   "cell_type": "code",
   "execution_count": 82,
   "id": "5ee0f45b",
   "metadata": {},
   "outputs": [
    {
     "name": "stdout",
     "output_type": "stream",
     "text": [
      "100\n",
      "['struktur', '2018', '2019']\n"
     ]
    }
   ],
   "source": [
    "data=removeRear(deq)\n",
    "print(data)\n",
    "print(deq)"
   ]
  },
  {
   "cell_type": "code",
   "execution_count": 83,
   "id": "40200efc",
   "metadata": {},
   "outputs": [
    {
     "data": {
      "text/plain": [
       "3"
      ]
     },
     "execution_count": 83,
     "metadata": {},
     "output_type": "execute_result"
    }
   ],
   "source": [
    "size(deq)"
   ]
  },
  {
   "cell_type": "code",
   "execution_count": 84,
   "id": "1a99df62",
   "metadata": {},
   "outputs": [
    {
     "data": {
      "text/plain": [
       "False"
      ]
     },
     "execution_count": 84,
     "metadata": {},
     "output_type": "execute_result"
    }
   ],
   "source": [
    "isEmpty(deq)"
   ]
  },
  {
   "cell_type": "code",
   "execution_count": 85,
   "id": "d6133e4d",
   "metadata": {},
   "outputs": [
    {
     "name": "stdout",
     "output_type": "stream",
     "text": [
      "['2018', '2019', 'struktur']\n"
     ]
    }
   ],
   "source": [
    "addRear(deq,removeFront(deq))\n",
    "print(deq)"
   ]
  },
  {
   "cell_type": "code",
   "execution_count": 86,
   "id": "02754820",
   "metadata": {},
   "outputs": [],
   "source": [
    "def cekPalindrom(string):\n",
    "    palindrom=createDeque()\n",
    "    for huruf in string:\n",
    "        addRear(palindrom,huruf)\n",
    "    cek=True\n",
    "    while size(palindrom)>1:\n",
    "        a=removeRear(palindrom)\n",
    "        b=removeFront(palindrom)\n",
    "        if (a==b):\n",
    "            cek=cek and True\n",
    "        else:\n",
    "            cek=cek and False\n",
    "    return cek"
   ]
  },
  {
   "cell_type": "code",
   "execution_count": 87,
   "id": "34c1d718",
   "metadata": {},
   "outputs": [
    {
     "name": "stdout",
     "output_type": "stream",
     "text": [
      "True\n",
      "False\n",
      "True\n",
      "True\n",
      "True\n",
      "False\n"
     ]
    }
   ],
   "source": [
    "print(cekPalindrom('hannah'))\n",
    "print(cekPalindrom('surabaya'))\n",
    "print(cekPalindrom('abcdcba'))\n",
    "print(cekPalindrom('katak'))\n",
    "print(cekPalindrom('taat'))\n",
    "print(cekPalindrom('dia'))"
   ]
  },
  {
   "cell_type": "markdown",
   "id": "ce0f27ca",
   "metadata": {},
   "source": [
    "# sorting"
   ]
  },
  {
   "cell_type": "code",
   "execution_count": 88,
   "id": "6b9dafaa",
   "metadata": {},
   "outputs": [],
   "source": [
    "def bubbleSort(listData):\n",
    "    print('Data yang akan diurutkan : ', listData)\n",
    "    count=0\n",
    "    for outIter in range(len(listData)-1,-1,-1):\n",
    "        print('outIter=',outIter)\n",
    "        count=count+1\n",
    "        print ('Iterasi ke-', count,':')\n",
    "        for i in range(outIter):\n",
    "            if listData[i]>listData[i+1]:\n",
    "                temp=listData[i]\n",
    "                listData[i]=listData[i+1]\n",
    "                listData[i+1]=temp\n",
    "                #listData[i],listData[i+1]=listData[i+1],listData[i]\n",
    "            print(outIter,'=',listData)\n",
    "    print('Data urut-',listData)"
   ]
  },
  {
   "cell_type": "code",
   "execution_count": 89,
   "id": "f20f6ae0",
   "metadata": {},
   "outputs": [
    {
     "name": "stdout",
     "output_type": "stream",
     "text": [
      "Data yang akan diurutkan :  [12, 0, 5, 1, 11, 20, 4, 2]\n",
      "outIter= 7\n",
      "Iterasi ke- 1 :\n",
      "7 = [0, 12, 5, 1, 11, 20, 4, 2]\n",
      "7 = [0, 5, 12, 1, 11, 20, 4, 2]\n",
      "7 = [0, 5, 1, 12, 11, 20, 4, 2]\n",
      "7 = [0, 5, 1, 11, 12, 20, 4, 2]\n",
      "7 = [0, 5, 1, 11, 12, 20, 4, 2]\n",
      "7 = [0, 5, 1, 11, 12, 4, 20, 2]\n",
      "7 = [0, 5, 1, 11, 12, 4, 2, 20]\n",
      "outIter= 6\n",
      "Iterasi ke- 2 :\n",
      "6 = [0, 5, 1, 11, 12, 4, 2, 20]\n",
      "6 = [0, 1, 5, 11, 12, 4, 2, 20]\n",
      "6 = [0, 1, 5, 11, 12, 4, 2, 20]\n",
      "6 = [0, 1, 5, 11, 12, 4, 2, 20]\n",
      "6 = [0, 1, 5, 11, 4, 12, 2, 20]\n",
      "6 = [0, 1, 5, 11, 4, 2, 12, 20]\n",
      "outIter= 5\n",
      "Iterasi ke- 3 :\n",
      "5 = [0, 1, 5, 11, 4, 2, 12, 20]\n",
      "5 = [0, 1, 5, 11, 4, 2, 12, 20]\n",
      "5 = [0, 1, 5, 11, 4, 2, 12, 20]\n",
      "5 = [0, 1, 5, 4, 11, 2, 12, 20]\n",
      "5 = [0, 1, 5, 4, 2, 11, 12, 20]\n",
      "outIter= 4\n",
      "Iterasi ke- 4 :\n",
      "4 = [0, 1, 5, 4, 2, 11, 12, 20]\n",
      "4 = [0, 1, 5, 4, 2, 11, 12, 20]\n",
      "4 = [0, 1, 4, 5, 2, 11, 12, 20]\n",
      "4 = [0, 1, 4, 2, 5, 11, 12, 20]\n",
      "outIter= 3\n",
      "Iterasi ke- 5 :\n",
      "3 = [0, 1, 4, 2, 5, 11, 12, 20]\n",
      "3 = [0, 1, 4, 2, 5, 11, 12, 20]\n",
      "3 = [0, 1, 2, 4, 5, 11, 12, 20]\n",
      "outIter= 2\n",
      "Iterasi ke- 6 :\n",
      "2 = [0, 1, 2, 4, 5, 11, 12, 20]\n",
      "2 = [0, 1, 2, 4, 5, 11, 12, 20]\n",
      "outIter= 1\n",
      "Iterasi ke- 7 :\n",
      "1 = [0, 1, 2, 4, 5, 11, 12, 20]\n",
      "outIter= 0\n",
      "Iterasi ke- 8 :\n",
      "Data urut- [0, 1, 2, 4, 5, 11, 12, 20]\n",
      "--\n",
      "Data yang akan diurutkan :  [12, 11, 5, 1, 0]\n",
      "outIter= 4\n",
      "Iterasi ke- 1 :\n",
      "4 = [11, 12, 5, 1, 0]\n",
      "4 = [11, 5, 12, 1, 0]\n",
      "4 = [11, 5, 1, 12, 0]\n",
      "4 = [11, 5, 1, 0, 12]\n",
      "outIter= 3\n",
      "Iterasi ke- 2 :\n",
      "3 = [5, 11, 1, 0, 12]\n",
      "3 = [5, 1, 11, 0, 12]\n",
      "3 = [5, 1, 0, 11, 12]\n",
      "outIter= 2\n",
      "Iterasi ke- 3 :\n",
      "2 = [1, 5, 0, 11, 12]\n",
      "2 = [1, 0, 5, 11, 12]\n",
      "outIter= 1\n",
      "Iterasi ke- 4 :\n",
      "1 = [0, 1, 5, 11, 12]\n",
      "outIter= 0\n",
      "Iterasi ke- 5 :\n",
      "Data urut- [0, 1, 5, 11, 12]\n"
     ]
    }
   ],
   "source": [
    "a=[12,0,5,1,11,20,4,2]\n",
    "bubbleSort(a)\n",
    "b=[12,11,5,1,0]\n",
    "print('--')\n",
    "bubbleSort(b)"
   ]
  },
  {
   "cell_type": "code",
   "execution_count": 90,
   "id": "18d9303f",
   "metadata": {},
   "outputs": [
    {
     "name": "stdout",
     "output_type": "stream",
     "text": [
      "Data yang akan diurutkan :  [11, 12, 1, 5, 0]\n",
      "outIter= 4\n",
      "Iterasi ke- 1 :\n",
      "4 = [11, 12, 1, 5, 0]\n",
      "4 = [11, 1, 12, 5, 0]\n",
      "4 = [11, 1, 5, 12, 0]\n",
      "4 = [11, 1, 5, 0, 12]\n",
      "outIter= 3\n",
      "Iterasi ke- 2 :\n",
      "3 = [1, 11, 5, 0, 12]\n",
      "3 = [1, 5, 11, 0, 12]\n",
      "3 = [1, 5, 0, 11, 12]\n",
      "outIter= 2\n",
      "Iterasi ke- 3 :\n",
      "2 = [1, 5, 0, 11, 12]\n",
      "2 = [1, 0, 5, 11, 12]\n",
      "outIter= 1\n",
      "Iterasi ke- 4 :\n",
      "1 = [0, 1, 5, 11, 12]\n",
      "outIter= 0\n",
      "Iterasi ke- 5 :\n",
      "Data urut- [0, 1, 5, 11, 12]\n"
     ]
    }
   ],
   "source": [
    "b=[11,12,1,5,0]\n",
    "bubbleSort(b)"
   ]
  },
  {
   "cell_type": "code",
   "execution_count": 91,
   "id": "b8780559",
   "metadata": {},
   "outputs": [
    {
     "name": "stdout",
     "output_type": "stream",
     "text": [
      "Data yang akan diurutkan :  [10, 2, 5, 8, 1, 20, 2, 2, 4]\n",
      "outIter= 8\n",
      "Iterasi ke- 1 :\n",
      "8 = [2, 10, 5, 8, 1, 20, 2, 2, 4]\n",
      "8 = [2, 5, 10, 8, 1, 20, 2, 2, 4]\n",
      "8 = [2, 5, 8, 10, 1, 20, 2, 2, 4]\n",
      "8 = [2, 5, 8, 1, 10, 20, 2, 2, 4]\n",
      "8 = [2, 5, 8, 1, 10, 20, 2, 2, 4]\n",
      "8 = [2, 5, 8, 1, 10, 2, 20, 2, 4]\n",
      "8 = [2, 5, 8, 1, 10, 2, 2, 20, 4]\n",
      "8 = [2, 5, 8, 1, 10, 2, 2, 4, 20]\n",
      "outIter= 7\n",
      "Iterasi ke- 2 :\n",
      "7 = [2, 5, 8, 1, 10, 2, 2, 4, 20]\n",
      "7 = [2, 5, 8, 1, 10, 2, 2, 4, 20]\n",
      "7 = [2, 5, 1, 8, 10, 2, 2, 4, 20]\n",
      "7 = [2, 5, 1, 8, 10, 2, 2, 4, 20]\n",
      "7 = [2, 5, 1, 8, 2, 10, 2, 4, 20]\n",
      "7 = [2, 5, 1, 8, 2, 2, 10, 4, 20]\n",
      "7 = [2, 5, 1, 8, 2, 2, 4, 10, 20]\n",
      "outIter= 6\n",
      "Iterasi ke- 3 :\n",
      "6 = [2, 5, 1, 8, 2, 2, 4, 10, 20]\n",
      "6 = [2, 1, 5, 8, 2, 2, 4, 10, 20]\n",
      "6 = [2, 1, 5, 8, 2, 2, 4, 10, 20]\n",
      "6 = [2, 1, 5, 2, 8, 2, 4, 10, 20]\n",
      "6 = [2, 1, 5, 2, 2, 8, 4, 10, 20]\n",
      "6 = [2, 1, 5, 2, 2, 4, 8, 10, 20]\n",
      "outIter= 5\n",
      "Iterasi ke- 4 :\n",
      "5 = [1, 2, 5, 2, 2, 4, 8, 10, 20]\n",
      "5 = [1, 2, 5, 2, 2, 4, 8, 10, 20]\n",
      "5 = [1, 2, 2, 5, 2, 4, 8, 10, 20]\n",
      "5 = [1, 2, 2, 2, 5, 4, 8, 10, 20]\n",
      "5 = [1, 2, 2, 2, 4, 5, 8, 10, 20]\n",
      "outIter= 4\n",
      "Iterasi ke- 5 :\n",
      "4 = [1, 2, 2, 2, 4, 5, 8, 10, 20]\n",
      "4 = [1, 2, 2, 2, 4, 5, 8, 10, 20]\n",
      "4 = [1, 2, 2, 2, 4, 5, 8, 10, 20]\n",
      "4 = [1, 2, 2, 2, 4, 5, 8, 10, 20]\n",
      "outIter= 3\n",
      "Iterasi ke- 6 :\n",
      "3 = [1, 2, 2, 2, 4, 5, 8, 10, 20]\n",
      "3 = [1, 2, 2, 2, 4, 5, 8, 10, 20]\n",
      "3 = [1, 2, 2, 2, 4, 5, 8, 10, 20]\n",
      "outIter= 2\n",
      "Iterasi ke- 7 :\n",
      "2 = [1, 2, 2, 2, 4, 5, 8, 10, 20]\n",
      "2 = [1, 2, 2, 2, 4, 5, 8, 10, 20]\n",
      "outIter= 1\n",
      "Iterasi ke- 8 :\n",
      "1 = [1, 2, 2, 2, 4, 5, 8, 10, 20]\n",
      "outIter= 0\n",
      "Iterasi ke- 9 :\n",
      "Data urut- [1, 2, 2, 2, 4, 5, 8, 10, 20]\n"
     ]
    }
   ],
   "source": [
    "b=[10,2,5,8,1,20,2,2,4]\n",
    "bubbleSort(b)"
   ]
  },
  {
   "cell_type": "markdown",
   "id": "01475ce4",
   "metadata": {},
   "source": [
    "# materi video babel sorting"
   ]
  },
  {
   "cell_type": "code",
   "execution_count": 92,
   "id": "15fa0aab",
   "metadata": {},
   "outputs": [
    {
     "name": "stdout",
     "output_type": "stream",
     "text": [
      "iterasi- 0\n",
      "iterasi- 1\n",
      "iterasi- 2\n",
      "iterasi- 3\n"
     ]
    }
   ],
   "source": [
    "n=5\n",
    "for i in range(n-1):\n",
    "    print('iterasi-',i)"
   ]
  },
  {
   "cell_type": "code",
   "execution_count": 93,
   "id": "9f67095a",
   "metadata": {},
   "outputs": [
    {
     "name": "stdout",
     "output_type": "stream",
     "text": [
      "iterasi- 4\n",
      "iterasi- 3\n",
      "iterasi- 2\n",
      "iterasi- 1\n"
     ]
    }
   ],
   "source": [
    "n=5\n",
    "for i in range(n-1,0,-1):\n",
    "    print('iterasi-',i)"
   ]
  },
  {
   "cell_type": "code",
   "execution_count": 94,
   "id": "78ca858f",
   "metadata": {},
   "outputs": [
    {
     "name": "stdout",
     "output_type": "stream",
     "text": [
      "jumlah iterasi- 4\n",
      "0 1\n",
      "1 2\n",
      "2 3\n",
      "3 4\n",
      "jumlah iterasi- 3\n",
      "0 1\n",
      "1 2\n",
      "2 3\n",
      "jumlah iterasi- 2\n",
      "0 1\n",
      "1 2\n",
      "jumlah iterasi- 1\n",
      "0 1\n"
     ]
    }
   ],
   "source": [
    "n=5\n",
    "for i in range(n-1,0,-1):#awal akhhir interval\n",
    "    print('jumlah iterasi-',i)\n",
    "    for j in range(i):\n",
    "        print(j,j+1)"
   ]
  },
  {
   "cell_type": "code",
   "execution_count": 95,
   "id": "31152ba2",
   "metadata": {},
   "outputs": [
    {
     "name": "stdout",
     "output_type": "stream",
     "text": [
      "jumlah iterasi- 2\n",
      "[4, 6, 1]\n",
      "[4, 1, 6]\n",
      "jumlah iterasi- 1\n",
      "[1, 4, 6]\n"
     ]
    }
   ],
   "source": [
    "n=4\n",
    "a=[4,6,1]\n",
    "for i in range(len(a)-1,0,-1):\n",
    "    print('jumlah iterasi-',i)\n",
    "    for j in range(i):\n",
    "        if a[j]>a[j+1]:\n",
    "            a[j],a[j+1]=a[j+1],a[j]\n",
    "        print(a)"
   ]
  },
  {
   "cell_type": "code",
   "execution_count": 96,
   "id": "f848f176",
   "metadata": {},
   "outputs": [
    {
     "name": "stdout",
     "output_type": "stream",
     "text": [
      "[10, 1, 15, 7, 3]\n",
      "1 ---> [1, 10, 15, 7, 3]\n",
      "2 ---> [1, 10, 15, 7, 3]\n",
      "3 ---> [1, 10, 7, 15, 3]\n",
      "4 ---> [1, 10, 7, 3, 15]\n"
     ]
    }
   ],
   "source": [
    "data=[10,1,15,7,3]\n",
    "print(data)\n",
    "counter=1\n",
    "for j in range(len(data)-1):\n",
    "    if data[j]>data[j+1]:\n",
    "        temp=data[j]\n",
    "        data[j]=data[j+1]\n",
    "        data[j+1]=temp\n",
    "    print(counter,'--->',data)\n",
    "    counter+=1"
   ]
  },
  {
   "cell_type": "code",
   "execution_count": 97,
   "id": "4154b895",
   "metadata": {},
   "outputs": [
    {
     "name": "stdout",
     "output_type": "stream",
     "text": [
      "[10, 1, 15, 7, 3]\n",
      "1 ---> [1, 10, 15, 7, 3]\n",
      "2 ---> [1, 10, 15, 7, 3]\n"
     ]
    }
   ],
   "source": [
    "data=[10,1,15,7,3]\n",
    "print(data)\n",
    "counter=1\n",
    "for j in range(len(data)-3):\n",
    "    if data[j]>data[j+1]:\n",
    "        temp=data[j]\n",
    "        data[j]=data[j+1]\n",
    "        data[j+1]=temp\n",
    "    print(counter,'--->',data)\n",
    "    counter+=1"
   ]
  },
  {
   "cell_type": "code",
   "execution_count": 98,
   "id": "1bfa3912",
   "metadata": {},
   "outputs": [
    {
     "name": "stdout",
     "output_type": "stream",
     "text": [
      "[10, 1, 15, 7, 3]\n",
      "1 ---> [1, 10, 15, 7, 3]\n"
     ]
    }
   ],
   "source": [
    "data=[10,1,15,7,3]\n",
    "print(data)\n",
    "counter=1\n",
    "for j in range(len(data)-4):\n",
    "    if data[j]>data[j+1]:\n",
    "        temp=data[j]\n",
    "        data[j]=data[j+1]\n",
    "        data[j+1]=temp\n",
    "    print(counter,'--->',data)\n",
    "    counter+=1"
   ]
  },
  {
   "cell_type": "code",
   "execution_count": 99,
   "id": "f3eb3382",
   "metadata": {},
   "outputs": [
    {
     "name": "stdout",
     "output_type": "stream",
     "text": [
      "jumlah iterasi- 13\n",
      "[6, 10, 7, 1, 10, 12, 100, 1, 0, 23, 45, 7, 8, 9]\n",
      "[6, 7, 10, 1, 10, 12, 100, 1, 0, 23, 45, 7, 8, 9]\n",
      "[6, 7, 1, 10, 10, 12, 100, 1, 0, 23, 45, 7, 8, 9]\n",
      "[6, 7, 1, 10, 10, 12, 100, 1, 0, 23, 45, 7, 8, 9]\n",
      "[6, 7, 1, 10, 10, 12, 100, 1, 0, 23, 45, 7, 8, 9]\n",
      "[6, 7, 1, 10, 10, 12, 100, 1, 0, 23, 45, 7, 8, 9]\n",
      "[6, 7, 1, 10, 10, 12, 1, 100, 0, 23, 45, 7, 8, 9]\n",
      "[6, 7, 1, 10, 10, 12, 1, 0, 100, 23, 45, 7, 8, 9]\n",
      "[6, 7, 1, 10, 10, 12, 1, 0, 23, 100, 45, 7, 8, 9]\n",
      "[6, 7, 1, 10, 10, 12, 1, 0, 23, 45, 100, 7, 8, 9]\n",
      "[6, 7, 1, 10, 10, 12, 1, 0, 23, 45, 7, 100, 8, 9]\n",
      "[6, 7, 1, 10, 10, 12, 1, 0, 23, 45, 7, 8, 100, 9]\n",
      "[6, 7, 1, 10, 10, 12, 1, 0, 23, 45, 7, 8, 9, 100]\n",
      "jumlah iterasi- 12\n",
      "[6, 7, 1, 10, 10, 12, 1, 0, 23, 45, 7, 8, 9, 100]\n",
      "[6, 1, 7, 10, 10, 12, 1, 0, 23, 45, 7, 8, 9, 100]\n",
      "[6, 1, 7, 10, 10, 12, 1, 0, 23, 45, 7, 8, 9, 100]\n",
      "[6, 1, 7, 10, 10, 12, 1, 0, 23, 45, 7, 8, 9, 100]\n",
      "[6, 1, 7, 10, 10, 12, 1, 0, 23, 45, 7, 8, 9, 100]\n",
      "[6, 1, 7, 10, 10, 1, 12, 0, 23, 45, 7, 8, 9, 100]\n",
      "[6, 1, 7, 10, 10, 1, 0, 12, 23, 45, 7, 8, 9, 100]\n",
      "[6, 1, 7, 10, 10, 1, 0, 12, 23, 45, 7, 8, 9, 100]\n",
      "[6, 1, 7, 10, 10, 1, 0, 12, 23, 45, 7, 8, 9, 100]\n",
      "[6, 1, 7, 10, 10, 1, 0, 12, 23, 7, 45, 8, 9, 100]\n",
      "[6, 1, 7, 10, 10, 1, 0, 12, 23, 7, 8, 45, 9, 100]\n",
      "[6, 1, 7, 10, 10, 1, 0, 12, 23, 7, 8, 9, 45, 100]\n",
      "jumlah iterasi- 11\n",
      "[1, 6, 7, 10, 10, 1, 0, 12, 23, 7, 8, 9, 45, 100]\n",
      "[1, 6, 7, 10, 10, 1, 0, 12, 23, 7, 8, 9, 45, 100]\n",
      "[1, 6, 7, 10, 10, 1, 0, 12, 23, 7, 8, 9, 45, 100]\n",
      "[1, 6, 7, 10, 10, 1, 0, 12, 23, 7, 8, 9, 45, 100]\n",
      "[1, 6, 7, 10, 1, 10, 0, 12, 23, 7, 8, 9, 45, 100]\n",
      "[1, 6, 7, 10, 1, 0, 10, 12, 23, 7, 8, 9, 45, 100]\n",
      "[1, 6, 7, 10, 1, 0, 10, 12, 23, 7, 8, 9, 45, 100]\n",
      "[1, 6, 7, 10, 1, 0, 10, 12, 23, 7, 8, 9, 45, 100]\n",
      "[1, 6, 7, 10, 1, 0, 10, 12, 7, 23, 8, 9, 45, 100]\n",
      "[1, 6, 7, 10, 1, 0, 10, 12, 7, 8, 23, 9, 45, 100]\n",
      "[1, 6, 7, 10, 1, 0, 10, 12, 7, 8, 9, 23, 45, 100]\n",
      "jumlah iterasi- 10\n",
      "[1, 6, 7, 10, 1, 0, 10, 12, 7, 8, 9, 23, 45, 100]\n",
      "[1, 6, 7, 10, 1, 0, 10, 12, 7, 8, 9, 23, 45, 100]\n",
      "[1, 6, 7, 10, 1, 0, 10, 12, 7, 8, 9, 23, 45, 100]\n",
      "[1, 6, 7, 1, 10, 0, 10, 12, 7, 8, 9, 23, 45, 100]\n",
      "[1, 6, 7, 1, 0, 10, 10, 12, 7, 8, 9, 23, 45, 100]\n",
      "[1, 6, 7, 1, 0, 10, 10, 12, 7, 8, 9, 23, 45, 100]\n",
      "[1, 6, 7, 1, 0, 10, 10, 12, 7, 8, 9, 23, 45, 100]\n",
      "[1, 6, 7, 1, 0, 10, 10, 7, 12, 8, 9, 23, 45, 100]\n",
      "[1, 6, 7, 1, 0, 10, 10, 7, 8, 12, 9, 23, 45, 100]\n",
      "[1, 6, 7, 1, 0, 10, 10, 7, 8, 9, 12, 23, 45, 100]\n",
      "jumlah iterasi- 9\n",
      "[1, 6, 7, 1, 0, 10, 10, 7, 8, 9, 12, 23, 45, 100]\n",
      "[1, 6, 7, 1, 0, 10, 10, 7, 8, 9, 12, 23, 45, 100]\n",
      "[1, 6, 1, 7, 0, 10, 10, 7, 8, 9, 12, 23, 45, 100]\n",
      "[1, 6, 1, 0, 7, 10, 10, 7, 8, 9, 12, 23, 45, 100]\n",
      "[1, 6, 1, 0, 7, 10, 10, 7, 8, 9, 12, 23, 45, 100]\n",
      "[1, 6, 1, 0, 7, 10, 10, 7, 8, 9, 12, 23, 45, 100]\n",
      "[1, 6, 1, 0, 7, 10, 7, 10, 8, 9, 12, 23, 45, 100]\n",
      "[1, 6, 1, 0, 7, 10, 7, 8, 10, 9, 12, 23, 45, 100]\n",
      "[1, 6, 1, 0, 7, 10, 7, 8, 9, 10, 12, 23, 45, 100]\n",
      "jumlah iterasi- 8\n",
      "[1, 6, 1, 0, 7, 10, 7, 8, 9, 10, 12, 23, 45, 100]\n",
      "[1, 1, 6, 0, 7, 10, 7, 8, 9, 10, 12, 23, 45, 100]\n",
      "[1, 1, 0, 6, 7, 10, 7, 8, 9, 10, 12, 23, 45, 100]\n",
      "[1, 1, 0, 6, 7, 10, 7, 8, 9, 10, 12, 23, 45, 100]\n",
      "[1, 1, 0, 6, 7, 10, 7, 8, 9, 10, 12, 23, 45, 100]\n",
      "[1, 1, 0, 6, 7, 7, 10, 8, 9, 10, 12, 23, 45, 100]\n",
      "[1, 1, 0, 6, 7, 7, 8, 10, 9, 10, 12, 23, 45, 100]\n",
      "[1, 1, 0, 6, 7, 7, 8, 9, 10, 10, 12, 23, 45, 100]\n",
      "jumlah iterasi- 7\n",
      "[1, 1, 0, 6, 7, 7, 8, 9, 10, 10, 12, 23, 45, 100]\n",
      "[1, 0, 1, 6, 7, 7, 8, 9, 10, 10, 12, 23, 45, 100]\n",
      "[1, 0, 1, 6, 7, 7, 8, 9, 10, 10, 12, 23, 45, 100]\n",
      "[1, 0, 1, 6, 7, 7, 8, 9, 10, 10, 12, 23, 45, 100]\n",
      "[1, 0, 1, 6, 7, 7, 8, 9, 10, 10, 12, 23, 45, 100]\n",
      "[1, 0, 1, 6, 7, 7, 8, 9, 10, 10, 12, 23, 45, 100]\n",
      "[1, 0, 1, 6, 7, 7, 8, 9, 10, 10, 12, 23, 45, 100]\n",
      "jumlah iterasi- 6\n",
      "[0, 1, 1, 6, 7, 7, 8, 9, 10, 10, 12, 23, 45, 100]\n",
      "[0, 1, 1, 6, 7, 7, 8, 9, 10, 10, 12, 23, 45, 100]\n",
      "[0, 1, 1, 6, 7, 7, 8, 9, 10, 10, 12, 23, 45, 100]\n",
      "[0, 1, 1, 6, 7, 7, 8, 9, 10, 10, 12, 23, 45, 100]\n",
      "[0, 1, 1, 6, 7, 7, 8, 9, 10, 10, 12, 23, 45, 100]\n",
      "[0, 1, 1, 6, 7, 7, 8, 9, 10, 10, 12, 23, 45, 100]\n",
      "jumlah iterasi- 5\n",
      "[0, 1, 1, 6, 7, 7, 8, 9, 10, 10, 12, 23, 45, 100]\n",
      "[0, 1, 1, 6, 7, 7, 8, 9, 10, 10, 12, 23, 45, 100]\n",
      "[0, 1, 1, 6, 7, 7, 8, 9, 10, 10, 12, 23, 45, 100]\n",
      "[0, 1, 1, 6, 7, 7, 8, 9, 10, 10, 12, 23, 45, 100]\n",
      "[0, 1, 1, 6, 7, 7, 8, 9, 10, 10, 12, 23, 45, 100]\n",
      "jumlah iterasi- 4\n",
      "[0, 1, 1, 6, 7, 7, 8, 9, 10, 10, 12, 23, 45, 100]\n",
      "[0, 1, 1, 6, 7, 7, 8, 9, 10, 10, 12, 23, 45, 100]\n",
      "[0, 1, 1, 6, 7, 7, 8, 9, 10, 10, 12, 23, 45, 100]\n",
      "[0, 1, 1, 6, 7, 7, 8, 9, 10, 10, 12, 23, 45, 100]\n",
      "jumlah iterasi- 3\n",
      "[0, 1, 1, 6, 7, 7, 8, 9, 10, 10, 12, 23, 45, 100]\n",
      "[0, 1, 1, 6, 7, 7, 8, 9, 10, 10, 12, 23, 45, 100]\n",
      "[0, 1, 1, 6, 7, 7, 8, 9, 10, 10, 12, 23, 45, 100]\n",
      "jumlah iterasi- 2\n",
      "[0, 1, 1, 6, 7, 7, 8, 9, 10, 10, 12, 23, 45, 100]\n",
      "[0, 1, 1, 6, 7, 7, 8, 9, 10, 10, 12, 23, 45, 100]\n",
      "jumlah iterasi- 1\n",
      "[0, 1, 1, 6, 7, 7, 8, 9, 10, 10, 12, 23, 45, 100]\n"
     ]
    }
   ],
   "source": [
    "n=4\n",
    "a=[10,6,7,1,10,12,100,1,0,23,45,7,8,9]\n",
    "for i in range(len(a)-1,0,-1):\n",
    "    print('jumlah iterasi-',i)\n",
    "    for j in range(i):\n",
    "        if a[j]>a[j+1]:\n",
    "            a[j],a[j+1]=a[j+1],a[j]\n",
    "        print(a)"
   ]
  },
  {
   "cell_type": "code",
   "execution_count": 100,
   "id": "e0b0cf56",
   "metadata": {},
   "outputs": [
    {
     "name": "stdout",
     "output_type": "stream",
     "text": [
      "jumlah iterasi- 13\n",
      "[6, 10, 7, 1, 10, 12, 100, 1, 0, 23, 45, 7, 8, 9]\n",
      "[6, 7, 10, 1, 10, 12, 100, 1, 0, 23, 45, 7, 8, 9]\n",
      "[6, 7, 1, 10, 10, 12, 100, 1, 0, 23, 45, 7, 8, 9]\n",
      "[6, 7, 1, 10, 10, 12, 100, 1, 0, 23, 45, 7, 8, 9]\n",
      "[6, 7, 1, 10, 10, 12, 100, 1, 0, 23, 45, 7, 8, 9]\n",
      "[6, 7, 1, 10, 10, 12, 100, 1, 0, 23, 45, 7, 8, 9]\n",
      "[6, 7, 1, 10, 10, 12, 1, 100, 0, 23, 45, 7, 8, 9]\n",
      "[6, 7, 1, 10, 10, 12, 1, 0, 100, 23, 45, 7, 8, 9]\n",
      "[6, 7, 1, 10, 10, 12, 1, 0, 23, 100, 45, 7, 8, 9]\n",
      "[6, 7, 1, 10, 10, 12, 1, 0, 23, 45, 100, 7, 8, 9]\n",
      "[6, 7, 1, 10, 10, 12, 1, 0, 23, 45, 7, 100, 8, 9]\n",
      "[6, 7, 1, 10, 10, 12, 1, 0, 23, 45, 7, 8, 100, 9]\n",
      "[6, 7, 1, 10, 10, 12, 1, 0, 23, 45, 7, 8, 9, 100]\n",
      "jumlah iterasi- 12\n",
      "[6, 7, 1, 10, 10, 12, 1, 0, 23, 45, 7, 8, 9, 100]\n",
      "[6, 1, 7, 10, 10, 12, 1, 0, 23, 45, 7, 8, 9, 100]\n",
      "[6, 1, 7, 10, 10, 12, 1, 0, 23, 45, 7, 8, 9, 100]\n",
      "[6, 1, 7, 10, 10, 12, 1, 0, 23, 45, 7, 8, 9, 100]\n",
      "[6, 1, 7, 10, 10, 12, 1, 0, 23, 45, 7, 8, 9, 100]\n",
      "[6, 1, 7, 10, 10, 1, 12, 0, 23, 45, 7, 8, 9, 100]\n",
      "[6, 1, 7, 10, 10, 1, 0, 12, 23, 45, 7, 8, 9, 100]\n",
      "[6, 1, 7, 10, 10, 1, 0, 12, 23, 45, 7, 8, 9, 100]\n",
      "[6, 1, 7, 10, 10, 1, 0, 12, 23, 45, 7, 8, 9, 100]\n",
      "[6, 1, 7, 10, 10, 1, 0, 12, 23, 7, 45, 8, 9, 100]\n",
      "[6, 1, 7, 10, 10, 1, 0, 12, 23, 7, 8, 45, 9, 100]\n",
      "[6, 1, 7, 10, 10, 1, 0, 12, 23, 7, 8, 9, 45, 100]\n",
      "jumlah iterasi- 11\n",
      "[1, 6, 7, 10, 10, 1, 0, 12, 23, 7, 8, 9, 45, 100]\n",
      "[1, 6, 7, 10, 10, 1, 0, 12, 23, 7, 8, 9, 45, 100]\n",
      "[1, 6, 7, 10, 10, 1, 0, 12, 23, 7, 8, 9, 45, 100]\n",
      "[1, 6, 7, 10, 10, 1, 0, 12, 23, 7, 8, 9, 45, 100]\n",
      "[1, 6, 7, 10, 1, 10, 0, 12, 23, 7, 8, 9, 45, 100]\n",
      "[1, 6, 7, 10, 1, 0, 10, 12, 23, 7, 8, 9, 45, 100]\n",
      "[1, 6, 7, 10, 1, 0, 10, 12, 23, 7, 8, 9, 45, 100]\n",
      "[1, 6, 7, 10, 1, 0, 10, 12, 23, 7, 8, 9, 45, 100]\n",
      "[1, 6, 7, 10, 1, 0, 10, 12, 7, 23, 8, 9, 45, 100]\n",
      "[1, 6, 7, 10, 1, 0, 10, 12, 7, 8, 23, 9, 45, 100]\n",
      "[1, 6, 7, 10, 1, 0, 10, 12, 7, 8, 9, 23, 45, 100]\n",
      "jumlah iterasi- 10\n",
      "[1, 6, 7, 10, 1, 0, 10, 12, 7, 8, 9, 23, 45, 100]\n",
      "[1, 6, 7, 10, 1, 0, 10, 12, 7, 8, 9, 23, 45, 100]\n",
      "[1, 6, 7, 10, 1, 0, 10, 12, 7, 8, 9, 23, 45, 100]\n",
      "[1, 6, 7, 1, 10, 0, 10, 12, 7, 8, 9, 23, 45, 100]\n",
      "[1, 6, 7, 1, 0, 10, 10, 12, 7, 8, 9, 23, 45, 100]\n",
      "[1, 6, 7, 1, 0, 10, 10, 12, 7, 8, 9, 23, 45, 100]\n",
      "[1, 6, 7, 1, 0, 10, 10, 12, 7, 8, 9, 23, 45, 100]\n",
      "[1, 6, 7, 1, 0, 10, 10, 7, 12, 8, 9, 23, 45, 100]\n",
      "[1, 6, 7, 1, 0, 10, 10, 7, 8, 12, 9, 23, 45, 100]\n",
      "[1, 6, 7, 1, 0, 10, 10, 7, 8, 9, 12, 23, 45, 100]\n",
      "jumlah iterasi- 9\n",
      "[1, 6, 7, 1, 0, 10, 10, 7, 8, 9, 12, 23, 45, 100]\n",
      "[1, 6, 7, 1, 0, 10, 10, 7, 8, 9, 12, 23, 45, 100]\n",
      "[1, 6, 1, 7, 0, 10, 10, 7, 8, 9, 12, 23, 45, 100]\n",
      "[1, 6, 1, 0, 7, 10, 10, 7, 8, 9, 12, 23, 45, 100]\n",
      "[1, 6, 1, 0, 7, 10, 10, 7, 8, 9, 12, 23, 45, 100]\n",
      "[1, 6, 1, 0, 7, 10, 10, 7, 8, 9, 12, 23, 45, 100]\n",
      "[1, 6, 1, 0, 7, 10, 7, 10, 8, 9, 12, 23, 45, 100]\n",
      "[1, 6, 1, 0, 7, 10, 7, 8, 10, 9, 12, 23, 45, 100]\n",
      "[1, 6, 1, 0, 7, 10, 7, 8, 9, 10, 12, 23, 45, 100]\n",
      "jumlah iterasi- 8\n",
      "[1, 6, 1, 0, 7, 10, 7, 8, 9, 10, 12, 23, 45, 100]\n",
      "[1, 1, 6, 0, 7, 10, 7, 8, 9, 10, 12, 23, 45, 100]\n",
      "[1, 1, 0, 6, 7, 10, 7, 8, 9, 10, 12, 23, 45, 100]\n",
      "[1, 1, 0, 6, 7, 10, 7, 8, 9, 10, 12, 23, 45, 100]\n",
      "[1, 1, 0, 6, 7, 10, 7, 8, 9, 10, 12, 23, 45, 100]\n",
      "[1, 1, 0, 6, 7, 7, 10, 8, 9, 10, 12, 23, 45, 100]\n",
      "[1, 1, 0, 6, 7, 7, 8, 10, 9, 10, 12, 23, 45, 100]\n",
      "[1, 1, 0, 6, 7, 7, 8, 9, 10, 10, 12, 23, 45, 100]\n",
      "jumlah iterasi- 7\n",
      "[1, 1, 0, 6, 7, 7, 8, 9, 10, 10, 12, 23, 45, 100]\n",
      "[1, 0, 1, 6, 7, 7, 8, 9, 10, 10, 12, 23, 45, 100]\n",
      "[1, 0, 1, 6, 7, 7, 8, 9, 10, 10, 12, 23, 45, 100]\n",
      "[1, 0, 1, 6, 7, 7, 8, 9, 10, 10, 12, 23, 45, 100]\n",
      "[1, 0, 1, 6, 7, 7, 8, 9, 10, 10, 12, 23, 45, 100]\n",
      "[1, 0, 1, 6, 7, 7, 8, 9, 10, 10, 12, 23, 45, 100]\n",
      "[1, 0, 1, 6, 7, 7, 8, 9, 10, 10, 12, 23, 45, 100]\n",
      "jumlah iterasi- 6\n",
      "[0, 1, 1, 6, 7, 7, 8, 9, 10, 10, 12, 23, 45, 100]\n",
      "[0, 1, 1, 6, 7, 7, 8, 9, 10, 10, 12, 23, 45, 100]\n",
      "[0, 1, 1, 6, 7, 7, 8, 9, 10, 10, 12, 23, 45, 100]\n",
      "[0, 1, 1, 6, 7, 7, 8, 9, 10, 10, 12, 23, 45, 100]\n",
      "[0, 1, 1, 6, 7, 7, 8, 9, 10, 10, 12, 23, 45, 100]\n",
      "[0, 1, 1, 6, 7, 7, 8, 9, 10, 10, 12, 23, 45, 100]\n",
      "jumlah iterasi- 5\n",
      "[0, 1, 1, 6, 7, 7, 8, 9, 10, 10, 12, 23, 45, 100]\n",
      "[0, 1, 1, 6, 7, 7, 8, 9, 10, 10, 12, 23, 45, 100]\n",
      "[0, 1, 1, 6, 7, 7, 8, 9, 10, 10, 12, 23, 45, 100]\n",
      "[0, 1, 1, 6, 7, 7, 8, 9, 10, 10, 12, 23, 45, 100]\n",
      "[0, 1, 1, 6, 7, 7, 8, 9, 10, 10, 12, 23, 45, 100]\n"
     ]
    }
   ],
   "source": [
    "a = [10,6,7,1,10,12,100,1,0,23,45,7,8,9]\n",
    "urutanBenar = False\n",
    "for i in range(len(a)-1,0,-1):\n",
    "    print('jumlah iterasi-',i)\n",
    "    urutanBenar = True\n",
    "    for j in range(i):\n",
    "        if a[j]>a[j+1]:\n",
    "            a[j],a[j+1]=a[j+1],a[j]\n",
    "            urutanBenar = False\n",
    "        print(a)\n",
    "    if urutanBenar:\n",
    "        break"
   ]
  },
  {
   "cell_type": "code",
   "execution_count": 101,
   "id": "47ed48b3",
   "metadata": {},
   "outputs": [
    {
     "name": "stdout",
     "output_type": "stream",
     "text": [
      "Data yang akan diurutkan :  [10, 6, 7, 1, 10, 12, 100, 1, 0, 23, 45, 7, 8, 9]\n",
      "Iterasi ke- 1 :\n",
      "Kiri-kanan= [6, 7, 1, 10, 10, 12, 1, 0, 23, 45, 7, 8, 9, 100]\n",
      "Kanan-kiri= [0, 6, 7, 1, 10, 10, 12, 1, 7, 23, 45, 8, 9, 100]\n",
      "Iterasi ke- 2 :\n",
      "Kiri-kanan= [0, 6, 1, 7, 10, 10, 1, 7, 12, 23, 8, 9, 45, 100]\n",
      "Kanan-kiri= [0, 1, 6, 1, 7, 10, 10, 7, 8, 12, 23, 9, 45, 100]\n",
      "Iterasi ke- 3 :\n",
      "Kiri-kanan= [0, 1, 1, 6, 7, 10, 7, 8, 10, 12, 9, 23, 45, 100]\n",
      "Kanan-kiri= [0, 1, 1, 6, 7, 7, 10, 8, 9, 10, 12, 23, 45, 100]\n",
      "Iterasi ke- 4 :\n",
      "Kiri-kanan= [0, 1, 1, 6, 7, 7, 8, 9, 10, 10, 12, 23, 45, 100]\n",
      "Kanan-kiri= [0, 1, 1, 6, 7, 7, 8, 9, 10, 10, 12, 23, 45, 100]\n",
      "Iterasi ke- 5 :\n",
      "Kiri-kanan= [0, 1, 1, 6, 7, 7, 8, 9, 10, 10, 12, 23, 45, 100]\n",
      "Kanan-kiri= [0, 1, 1, 6, 7, 7, 8, 9, 10, 10, 12, 23, 45, 100]\n",
      "Iterasi ke- 6 :\n",
      "Kiri-kanan= [0, 1, 1, 6, 7, 7, 8, 9, 10, 10, 12, 23, 45, 100]\n",
      "Kanan-kiri= [0, 1, 1, 6, 7, 7, 8, 9, 10, 10, 12, 23, 45, 100]\n",
      "Iterasi ke- 7 :\n",
      "Kiri-kanan= [0, 1, 1, 6, 7, 7, 8, 9, 10, 10, 12, 23, 45, 100]\n",
      "Kanan-kiri= [0, 1, 1, 6, 7, 7, 8, 9, 10, 10, 12, 23, 45, 100]\n",
      "('Data urut-', [0, 1, 1, 6, 7, 7, 8, 9, 10, 10, 12, 23, 45, 100])\n"
     ]
    }
   ],
   "source": [
    "def bidirectionalBubbleSort(listData):\n",
    "    print('Data yang akan diurutkan : ', listData)\n",
    "    count = 0\n",
    "    left = 0\n",
    "    right = len(listData) - 1\n",
    "    while left < right:\n",
    "        count += 1\n",
    "        print('Iterasi ke-', count, ':')\n",
    "        for i in range(left, right):\n",
    "            if listData[i] > listData[i+1]:\n",
    "                listData[i], listData[i+1] = listData[i+1], listData[i]\n",
    "        print('Kiri-kanan=', listData)\n",
    "\n",
    "        right -= 1\n",
    "        for i in range(right, left, -1):\n",
    "            if listData[i] < listData[i-1]:\n",
    "                listData[i], listData[i-1] = listData[i-1], listData[i]\n",
    "        print('Kanan-kiri=', listData)\n",
    "\n",
    "        left += 1\n",
    "\n",
    "    return('Data urut-', listData)\n",
    "a = [10,6,7,1,10,12,100,1,0,23,45,7,8,9]\n",
    "print(bidirectionalBubbleSort(a))"
   ]
  },
  {
   "cell_type": "code",
   "execution_count": 102,
   "id": "0ea1b750",
   "metadata": {},
   "outputs": [
    {
     "name": "stdout",
     "output_type": "stream",
     "text": [
      "jumlah iterasi- 4\n",
      "[1, 10, 15, 7, 3]\n",
      "[1, 10, 15, 7, 3]\n",
      "[1, 10, 7, 15, 3]\n",
      "[1, 10, 7, 3, 15]\n",
      "jumlah iterasi- 3\n",
      "[1, 10, 7, 3, 15]\n",
      "[1, 7, 10, 3, 15]\n",
      "[1, 7, 3, 10, 15]\n",
      "jumlah iterasi- 2\n",
      "[1, 7, 3, 10, 15]\n",
      "[1, 3, 7, 10, 15]\n",
      "jumlah iterasi- 1\n",
      "[1, 3, 7, 10, 15]\n"
     ]
    }
   ],
   "source": [
    "a=[10,1,15,7,3]\n",
    "for i in range(len(a)-1,0,-1):\n",
    "    print('jumlah iterasi-',i)\n",
    "    for j in range(i):\n",
    "        if a[j]>a[j+1]:\n",
    "            a[j],a[j+1]=a[j+1],a[j]\n",
    "        print(a)"
   ]
  },
  {
   "cell_type": "markdown",
   "id": "2a0aebba",
   "metadata": {},
   "source": [
    "# selection sort"
   ]
  },
  {
   "cell_type": "code",
   "execution_count": 103,
   "id": "4c28fb14",
   "metadata": {},
   "outputs": [],
   "source": [
    "\n",
    "def selectionSort(listData):\n",
    "    print('Algoritma Selection Sort konvensional')\n",
    "    print('Data Awal=',listData)\n",
    "    for outIter in range(len(listData)-1):\n",
    "        minIndex=outIter\n",
    "        for i in range(outIter+1,len(listData)):\n",
    "            if listData[i]<listData[minIndex]:\n",
    "                minIndex=i\n",
    "        temp=listData[outIter]\n",
    "        listData[outIter]=listData[minIndex]\n",
    "        listData[minIndex]=temp\n",
    "        print('Iterasi ke-',outIter+1,':',listData)\n",
    "    print('Data Urut=',listData)"
   ]
  },
  {
   "cell_type": "code",
   "execution_count": 104,
   "id": "edd3bfd6",
   "metadata": {},
   "outputs": [
    {
     "name": "stdout",
     "output_type": "stream",
     "text": [
      "Algoritma Selection Sort konvensional\n",
      "Data Awal= [10, 1, 15, 7, 3]\n",
      "Iterasi ke- 1 : [1, 10, 15, 7, 3]\n",
      "Iterasi ke- 2 : [1, 3, 15, 7, 10]\n",
      "Iterasi ke- 3 : [1, 3, 7, 15, 10]\n",
      "Iterasi ke- 4 : [1, 3, 7, 10, 15]\n",
      "Data Urut= [1, 3, 7, 10, 15]\n"
     ]
    }
   ],
   "source": [
    "a=[10,1,15,7,3]\n",
    "selectionSort(a)"
   ]
  },
  {
   "cell_type": "code",
   "execution_count": 110,
   "id": "fd7fe161",
   "metadata": {
    "scrolled": true
   },
   "outputs": [
    {
     "name": "stdout",
     "output_type": "stream",
     "text": [
      "nilai minimum 1 indeks 2\n",
      "data urut---> [1, 10, 3, 7, 3]\n",
      "\n",
      "nilai minimum 1 indeks 2\n",
      "data urut---> [1, 1, 3, 7, 3]\n",
      "\n",
      "nilai minimum 1 indeks 2\n",
      "data urut---> [1, 1, 1, 7, 3]\n",
      "\n",
      "nilai minimum 1 indeks 2\n",
      "data urut---> [1, 1, 3, 1, 3]\n",
      "\n"
     ]
    }
   ],
   "source": [
    "nilaiMin=data[0]\n",
    "indeks=2\n",
    "for start in range(len(data)-1):\n",
    "    for i in range(start+1,len(data)):\n",
    "        if data[i]<nilaiMin:\n",
    "            nilaiMin=data[i]\n",
    "            indeks=i\n",
    "    print('nilai minimum',nilaiMin,'indeks',indeks)\n",
    "    data[indeks]=data[i]\n",
    "    data[start]=nilaiMin\n",
    "    print('data urut--->',data)\n",
    "    print()"
   ]
  },
  {
   "cell_type": "code",
   "execution_count": 114,
   "id": "63c1577f",
   "metadata": {},
   "outputs": [
    {
     "name": "stdout",
     "output_type": "stream",
     "text": [
      "[1, 3, 7, 10, 10]\n",
      "1\n",
      "[1, 3, 1, 10, 10]\n"
     ]
    }
   ],
   "source": [
    "a=[10,1,15,7,3]\n",
    "print(data)\n",
    "nilaiMin=data[0]\n",
    "indeks=2\n",
    "for i in range(1,len(data)):\n",
    "    if data[i]<nilaiMin:\n",
    "        nilaiMin=data[i]\n",
    "        indeks=i\n",
    "print(nilaiMin)\n",
    "data[indeks]=data[2]\n",
    "data[2]=nilaiMin\n",
    "print(data)"
   ]
  },
  {
   "cell_type": "code",
   "execution_count": 113,
   "id": "041a8052",
   "metadata": {},
   "outputs": [
    {
     "name": "stdout",
     "output_type": "stream",
     "text": [
      "[10, 7, 15, 1, 3]\n",
      "temp minimal 10 start = 0\n",
      "Nilai minimal =  1 indeks = 3\n",
      "data urut---> [1, 7, 15, 10, 3]\n",
      "\n",
      "temp minimal 7 start = 1\n",
      "Nilai minimal =  3 indeks = 4\n",
      "data urut---> [1, 3, 15, 10, 7]\n",
      "\n",
      "temp minimal 15 start = 2\n",
      "Nilai minimal =  7 indeks = 4\n",
      "data urut---> [1, 3, 7, 10, 15]\n",
      "\n",
      "temp minimal 10 start = 3\n",
      "Nilai minimal =  10 indeks = 4\n",
      "data urut---> [1, 3, 7, 10, 10]\n",
      "\n"
     ]
    }
   ],
   "source": [
    "data=[10,7,15,1,3]\n",
    "print(data)\n",
    "for start in range(len(data)-1):\n",
    "    nilaiMin=data[start]\n",
    "    print('temp minimal',nilaiMin,'start =',start)\n",
    "    for i in range(start+1,len(data)):\n",
    "        if data[i]<nilaiMin:\n",
    "            nilaiMin=data[i]\n",
    "            indeks=i\n",
    "    print('Nilai minimal = ',nilaiMin,'indeks =',indeks)\n",
    "    data[indeks]=data[start]\n",
    "    data[start]=nilaiMin\n",
    "    print('data urut--->',data)\n",
    "    print()"
   ]
  },
  {
   "cell_type": "code",
   "execution_count": null,
   "id": "dcee6c1f",
   "metadata": {},
   "outputs": [],
   "source": []
  },
  {
   "cell_type": "code",
   "execution_count": null,
   "id": "a19acaa0",
   "metadata": {},
   "outputs": [],
   "source": []
  },
  {
   "cell_type": "code",
   "execution_count": null,
   "id": "370fa51c",
   "metadata": {},
   "outputs": [],
   "source": []
  },
  {
   "cell_type": "code",
   "execution_count": null,
   "id": "170d21d6",
   "metadata": {},
   "outputs": [],
   "source": []
  },
  {
   "cell_type": "code",
   "execution_count": null,
   "id": "879f2dfc",
   "metadata": {},
   "outputs": [],
   "source": []
  },
  {
   "cell_type": "code",
   "execution_count": null,
   "id": "04be9bd3",
   "metadata": {},
   "outputs": [],
   "source": []
  },
  {
   "cell_type": "code",
   "execution_count": null,
   "id": "defe6471",
   "metadata": {},
   "outputs": [],
   "source": []
  },
  {
   "cell_type": "code",
   "execution_count": null,
   "id": "8628ff85",
   "metadata": {},
   "outputs": [],
   "source": []
  },
  {
   "cell_type": "code",
   "execution_count": null,
   "id": "18d6c05a",
   "metadata": {},
   "outputs": [],
   "source": []
  },
  {
   "cell_type": "code",
   "execution_count": null,
   "id": "a9b37989",
   "metadata": {},
   "outputs": [],
   "source": []
  },
  {
   "cell_type": "code",
   "execution_count": null,
   "id": "4a601402",
   "metadata": {},
   "outputs": [],
   "source": []
  },
  {
   "cell_type": "code",
   "execution_count": null,
   "id": "0466c8c1",
   "metadata": {},
   "outputs": [],
   "source": []
  },
  {
   "cell_type": "code",
   "execution_count": null,
   "id": "d1c68c97",
   "metadata": {},
   "outputs": [],
   "source": []
  },
  {
   "cell_type": "code",
   "execution_count": null,
   "id": "bb989ae1",
   "metadata": {},
   "outputs": [],
   "source": []
  },
  {
   "cell_type": "code",
   "execution_count": null,
   "id": "36e3b057",
   "metadata": {},
   "outputs": [],
   "source": []
  },
  {
   "cell_type": "code",
   "execution_count": null,
   "id": "fdc63092",
   "metadata": {},
   "outputs": [],
   "source": []
  }
 ],
 "metadata": {
  "kernelspec": {
   "display_name": "Python 3 (ipykernel)",
   "language": "python",
   "name": "python3"
  },
  "language_info": {
   "codemirror_mode": {
    "name": "ipython",
    "version": 3
   },
   "file_extension": ".py",
   "mimetype": "text/x-python",
   "name": "python",
   "nbconvert_exporter": "python",
   "pygments_lexer": "ipython3",
   "version": "3.9.12"
  }
 },
 "nbformat": 4,
 "nbformat_minor": 5
}
